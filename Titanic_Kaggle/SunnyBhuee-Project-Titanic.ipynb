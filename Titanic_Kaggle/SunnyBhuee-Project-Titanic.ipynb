{
 "cells": [
  {
   "cell_type": "markdown",
   "metadata": {},
   "source": [
    "<a href=\"https://www.linkedin.com/in/sunnybhuee/\">LinkedIn/SunnyBhuee</a>\n",
    "\n",
    "<a href=\"https://github.com/SunnyBhuee\">github/SunnyBhuee</a>\n",
    "\n",
    "<HR></HR>\n",
    " # Titanic Dataset"
    "<HR></HR>\n",
   ]
  },
  {
   "cell_type": "markdown",
   "metadata": {},
   "source": [
    "**Titanic** was a British passenger liner that sank in the North Atlantic Ocean on 15 April 1912, after striking an iceberg during her maiden voyage from Southampton to New York City. Of the estimated 2,224 passengers and crew aboard, more than 1,500 died, making the sinking the deadliest peacetime sinking of a superliner or cruise ship to date. \n",
    "\n",
    "\n",
    "**Problem:** We are provided the data on passengers of Titanic such as age, Sex, Ticket Class, etc. and the goal is to predict if a passenger survived the disaster based on these metrics. \n",
    "\n",
    "**Approach:** We use a few *Imputation* techniques (explored *KNN-Regressions, Lasso, Mean, Mode*) to ensure there is no missing data first. Then a few different Machine Learning models such **Support Vector Machines**, **Logistic Regression**, and **Random Forest** are scoped for performance. Finally, the best model, which turns out to be *Logistic regression* is used for predictions on the *Test* data. This was submitted to Kaggle as well. Although it is possible to fine tune the predictions to the level of near perfect prediction, it is not the purpose of this ***Notebook***, and overfitting is not the practice I follow or advise, as generalized models are better in the long run. \n",
    "\n",
    "**Datasets:** Available in **titanic** folder in the root directory\n",
    "<ul>\n",
    "<li>**Train:** *.\\titanic\\train.csv*</li>\n",
    "<li>**Test:** *.\\titanic\\test.csv*</li>\n",
    "</ul>\n",
    "\n",
    "The response variable **Survived** is not available in the **Test** dataset.\n",
    "\n",
    "| Variable | Definition                                 | Values\n",
    "|----------|--------------------------------------------|------------------------------------------------|\n",
    "| survival | survival                                   | 0 = No, 1 = Yes                                |\n",
    "| pclass   | Ticket class                               | 1 = 1st, 2 = 2nd, 3 = 3rd                      |\n",
    "| sex      | Sex                                        | male, female                                   |\n",
    "| Age      | Age in years                               | Numeric Range                                  |\n",
    "| sibsp    | # of siblings / spouses aboard the Titanic | Numeric Range                                  |\n",
    "| parch    | # of parents / children aboard the Titanic | Numeric Range                                  |\n",
    "| ticket   | Ticket number                              | Alphanumeric Values - Distinct                 |\n",
    "| fare \t   | Passenger fare                             | Numeric Range                                  |\n",
    "| cabin    | Cabin number                               | Alphanumeric Values                            |\n",
    "| embarked | Port of Embarkation                        | C = Cherbourg, Q = Queenstown, S = Southampton |\n",
    "\n",
    "\n",
    "<HR></HR>\n",
    "**Data Source: Kaggle.com**"
   ]
  },
  {
   "cell_type": "code",
   "execution_count": 1,
   "metadata": {
    "_cell_guid": "b1076dfc-b9ad-4769-8c92-a6c4dae69d19",
    "_uuid": "8f2839f25d086af736a60e9eeb907d3b93b6e0e5",
    "execution": {
     "iopub.execute_input": "2021-01-06T17:01:09.433749Z",
     "iopub.status.busy": "2021-01-06T17:01:09.433090Z",
     "iopub.status.idle": "2021-01-06T17:01:10.555006Z",
     "shell.execute_reply": "2021-01-06T17:01:10.555781Z"
    },
    "papermill": {
     "duration": 1.154975,
     "end_time": "2021-01-06T17:01:10.555998",
     "exception": false,
     "start_time": "2021-01-06T17:01:09.401023",
     "status": "completed"
    },
    "tags": []
   },
   "outputs": [
    {
     "name": "stdout",
     "output_type": "stream",
     "text": [
      "['.\\\\titanic\\\\train.csv', '.\\\\titanic\\\\test.csv']\n"
     ]
    }
   ],
   "source": [
    "import numpy as np \n",
    "import pandas as pd \n",
    "import random\n",
    "\n",
    "#graphs\n",
    "import matplotlib.pyplot as plt\n",
    "import seaborn as sns\n",
    "from matplotlib.ticker import PercentFormatter\n",
    "\n",
    "from sklearn.metrics import classification_report\n",
    "\n",
    "file_list = []\n",
    "import os\n",
    "for dirname, _, filenames in os.walk('.\\\\titanic'):\n",
    "    for filename in filenames:\n",
    "        file_list.append(os.path.join(dirname, filename))\n",
    "\n",
    "file_list = sorted(file_list, reverse=True)\n",
    "print(file_list)"
   ]
  },
  {
   "cell_type": "markdown",
   "metadata": {
    "papermill": {
     "duration": 0.029752,
     "end_time": "2021-01-06T17:01:10.616695",
     "exception": false,
     "start_time": "2021-01-06T17:01:10.586943",
     "status": "completed"
    },
    "tags": []
   },
   "source": [
    "# Importing Datasets and initial cleanup"
   ]
  },
  {
   "cell_type": "code",
   "execution_count": 3,
   "metadata": {
    "execution": {
     "iopub.execute_input": "2021-01-06T17:01:10.679703Z",
     "iopub.status.busy": "2021-01-06T17:01:10.678731Z",
     "iopub.status.idle": "2021-01-06T17:01:10.756170Z",
     "shell.execute_reply": "2021-01-06T17:01:10.755530Z"
    },
    "papermill": {
     "duration": 0.110158,
     "end_time": "2021-01-06T17:01:10.756282",
     "exception": false,
     "start_time": "2021-01-06T17:01:10.646124",
     "status": "completed"
    },
    "tags": []
   },
   "outputs": [
    {
     "name": "stdout",
     "output_type": "stream",
     "text": [
      "imported_data:\n",
      " Age            float64\n",
      "Embarked        object\n",
      "Fare           float64\n",
      "Parch            int64\n",
      "PassengerId      int64\n",
      "Pclass           int64\n",
      "Sex             object\n",
      "SibSp            int64\n",
      "Survived       float64\n",
      "Prefix          object\n",
      "dtype: object\n"
     ]
    },
    {
     "name": "stderr",
     "output_type": "stream",
     "text": [
      "C:\\Users\\Anterpreet\\Anaconda3\\lib\\site-packages\\pandas\\core\\frame.py:6211: FutureWarning: Sorting because non-concatenation axis is not aligned. A future version\n",
      "of pandas will change to not sort by default.\n",
      "\n",
      "To accept the future behavior, pass 'sort=False'.\n",
      "\n",
      "To retain the current behavior and silence the warning, pass 'sort=True'.\n",
      "\n",
      "  sort=sort)\n"
     ]
    },
    {
     "data": {
      "text/html": [
       "<div>\n",
       "<style scoped>\n",
       "    .dataframe tbody tr th:only-of-type {\n",
       "        vertical-align: middle;\n",
       "    }\n",
       "\n",
       "    .dataframe tbody tr th {\n",
       "        vertical-align: top;\n",
       "    }\n",
       "\n",
       "    .dataframe thead th {\n",
       "        text-align: right;\n",
       "    }\n",
       "</style>\n",
       "<table border=\"1\" class=\"dataframe\">\n",
       "  <thead>\n",
       "    <tr style=\"text-align: right;\">\n",
       "      <th></th>\n",
       "      <th>Age</th>\n",
       "      <th>Embarked</th>\n",
       "      <th>Fare</th>\n",
       "      <th>Parch</th>\n",
       "      <th>PassengerId</th>\n",
       "      <th>Pclass</th>\n",
       "      <th>Sex</th>\n",
       "      <th>SibSp</th>\n",
       "      <th>Survived</th>\n",
       "      <th>Prefix</th>\n",
       "    </tr>\n",
       "  </thead>\n",
       "  <tbody>\n",
       "    <tr>\n",
       "      <th>0</th>\n",
       "      <td>22.0</td>\n",
       "      <td>S</td>\n",
       "      <td>7.2500</td>\n",
       "      <td>0</td>\n",
       "      <td>1</td>\n",
       "      <td>3</td>\n",
       "      <td>male</td>\n",
       "      <td>1</td>\n",
       "      <td>0.0</td>\n",
       "      <td>Mr</td>\n",
       "    </tr>\n",
       "    <tr>\n",
       "      <th>1</th>\n",
       "      <td>38.0</td>\n",
       "      <td>C</td>\n",
       "      <td>71.2833</td>\n",
       "      <td>0</td>\n",
       "      <td>2</td>\n",
       "      <td>1</td>\n",
       "      <td>female</td>\n",
       "      <td>1</td>\n",
       "      <td>1.0</td>\n",
       "      <td>Mrs</td>\n",
       "    </tr>\n",
       "    <tr>\n",
       "      <th>2</th>\n",
       "      <td>26.0</td>\n",
       "      <td>S</td>\n",
       "      <td>7.9250</td>\n",
       "      <td>0</td>\n",
       "      <td>3</td>\n",
       "      <td>3</td>\n",
       "      <td>female</td>\n",
       "      <td>0</td>\n",
       "      <td>1.0</td>\n",
       "      <td>Miss</td>\n",
       "    </tr>\n",
       "    <tr>\n",
       "      <th>3</th>\n",
       "      <td>35.0</td>\n",
       "      <td>S</td>\n",
       "      <td>53.1000</td>\n",
       "      <td>0</td>\n",
       "      <td>4</td>\n",
       "      <td>1</td>\n",
       "      <td>female</td>\n",
       "      <td>1</td>\n",
       "      <td>1.0</td>\n",
       "      <td>Mrs</td>\n",
       "    </tr>\n",
       "    <tr>\n",
       "      <th>4</th>\n",
       "      <td>35.0</td>\n",
       "      <td>S</td>\n",
       "      <td>8.0500</td>\n",
       "      <td>0</td>\n",
       "      <td>5</td>\n",
       "      <td>3</td>\n",
       "      <td>male</td>\n",
       "      <td>0</td>\n",
       "      <td>0.0</td>\n",
       "      <td>Mr</td>\n",
       "    </tr>\n",
       "  </tbody>\n",
       "</table>\n",
       "</div>"
      ],
      "text/plain": [
       "    Age Embarked     Fare  Parch  PassengerId  Pclass     Sex  SibSp  \\\n",
       "0  22.0        S   7.2500      0            1       3    male      1   \n",
       "1  38.0        C  71.2833      0            2       1  female      1   \n",
       "2  26.0        S   7.9250      0            3       3  female      0   \n",
       "3  35.0        S  53.1000      0            4       1  female      1   \n",
       "4  35.0        S   8.0500      0            5       3    male      0   \n",
       "\n",
       "   Survived Prefix  \n",
       "0       0.0     Mr  \n",
       "1       1.0    Mrs  \n",
       "2       1.0   Miss  \n",
       "3       1.0    Mrs  \n",
       "4       0.0     Mr  "
      ]
     },
     "execution_count": 3,
     "metadata": {},
     "output_type": "execute_result"
    }
   ],
   "source": [
    "# Import CSVs and Combining them\n",
    "trainData = pd.read_csv(file_list[0])\n",
    "testData = pd.read_csv(file_list[1])\n",
    "\n",
    "# Test data can be found later: where Survival is missing\n",
    "fullData = trainData.append(testData).reset_index(drop=True)\n",
    "\n",
    "fullData['Prefix'] = fullData['Name'].str.extract(',\\s(the\\s\\w*|\\w*)', expand=True)\n",
    "\n",
    "fullData = fullData.drop(columns=['Cabin', 'Ticket', 'Name'])\n",
    "\n",
    "print('imported_data:\\n',fullData.dtypes)\n",
    "\n",
    "fullData.head()"
   ]
  },
  {
   "cell_type": "code",
   "execution_count": 4,
   "metadata": {
    "execution": {
     "iopub.execute_input": "2021-01-06T17:01:10.830098Z",
     "iopub.status.busy": "2021-01-06T17:01:10.829509Z",
     "iopub.status.idle": "2021-01-06T17:01:11.061579Z",
     "shell.execute_reply": "2021-01-06T17:01:11.061023Z"
    },
    "papermill": {
     "duration": 0.274492,
     "end_time": "2021-01-06T17:01:11.061689",
     "exception": false,
     "start_time": "2021-01-06T17:01:10.787197",
     "status": "completed"
    },
    "tags": []
   },
   "outputs": [
    {
     "name": "stdout",
     "output_type": "stream",
     "text": [
      "Sex column values:\n",
      "male      843\n",
      "female    466\n",
      "Name: Sex, dtype: int64\n",
      "\n",
      "Title column values. Males and females are the same that for the \"Sex\" column:\n",
      "Mr        782\n",
      "Miss      264\n",
      "Mrs       202\n",
      "Master     61\n",
      "Name: Prefix, dtype: int64\n"
     ]
    },
    {
     "data": {
      "text/html": [
       "<div>\n",
       "<style scoped>\n",
       "    .dataframe tbody tr th:only-of-type {\n",
       "        vertical-align: middle;\n",
       "    }\n",
       "\n",
       "    .dataframe tbody tr th {\n",
       "        vertical-align: top;\n",
       "    }\n",
       "\n",
       "    .dataframe thead th {\n",
       "        text-align: right;\n",
       "    }\n",
       "</style>\n",
       "<table border=\"1\" class=\"dataframe\">\n",
       "  <thead>\n",
       "    <tr style=\"text-align: right;\">\n",
       "      <th></th>\n",
       "      <th>Age</th>\n",
       "      <th>Embarked</th>\n",
       "      <th>Fare</th>\n",
       "      <th>Parch</th>\n",
       "      <th>PassengerId</th>\n",
       "      <th>Pclass</th>\n",
       "      <th>Sex</th>\n",
       "      <th>SibSp</th>\n",
       "      <th>Survived</th>\n",
       "      <th>Prefix</th>\n",
       "    </tr>\n",
       "  </thead>\n",
       "  <tbody>\n",
       "    <tr>\n",
       "      <th>0</th>\n",
       "      <td>22.0</td>\n",
       "      <td>S</td>\n",
       "      <td>7.2500</td>\n",
       "      <td>0</td>\n",
       "      <td>1</td>\n",
       "      <td>3</td>\n",
       "      <td>male</td>\n",
       "      <td>1</td>\n",
       "      <td>0.0</td>\n",
       "      <td>Mr</td>\n",
       "    </tr>\n",
       "    <tr>\n",
       "      <th>1</th>\n",
       "      <td>38.0</td>\n",
       "      <td>C</td>\n",
       "      <td>71.2833</td>\n",
       "      <td>0</td>\n",
       "      <td>2</td>\n",
       "      <td>1</td>\n",
       "      <td>female</td>\n",
       "      <td>1</td>\n",
       "      <td>1.0</td>\n",
       "      <td>Mrs</td>\n",
       "    </tr>\n",
       "    <tr>\n",
       "      <th>2</th>\n",
       "      <td>26.0</td>\n",
       "      <td>S</td>\n",
       "      <td>7.9250</td>\n",
       "      <td>0</td>\n",
       "      <td>3</td>\n",
       "      <td>3</td>\n",
       "      <td>female</td>\n",
       "      <td>0</td>\n",
       "      <td>1.0</td>\n",
       "      <td>Miss</td>\n",
       "    </tr>\n",
       "    <tr>\n",
       "      <th>3</th>\n",
       "      <td>35.0</td>\n",
       "      <td>S</td>\n",
       "      <td>53.1000</td>\n",
       "      <td>0</td>\n",
       "      <td>4</td>\n",
       "      <td>1</td>\n",
       "      <td>female</td>\n",
       "      <td>1</td>\n",
       "      <td>1.0</td>\n",
       "      <td>Mrs</td>\n",
       "    </tr>\n",
       "    <tr>\n",
       "      <th>4</th>\n",
       "      <td>35.0</td>\n",
       "      <td>S</td>\n",
       "      <td>8.0500</td>\n",
       "      <td>0</td>\n",
       "      <td>5</td>\n",
       "      <td>3</td>\n",
       "      <td>male</td>\n",
       "      <td>0</td>\n",
       "      <td>0.0</td>\n",
       "      <td>Mr</td>\n",
       "    </tr>\n",
       "  </tbody>\n",
       "</table>\n",
       "</div>"
      ],
      "text/plain": [
       "    Age Embarked     Fare  Parch  PassengerId  Pclass     Sex  SibSp  \\\n",
       "0  22.0        S   7.2500      0            1       3    male      1   \n",
       "1  38.0        C  71.2833      0            2       1  female      1   \n",
       "2  26.0        S   7.9250      0            3       3  female      0   \n",
       "3  35.0        S  53.1000      0            4       1  female      1   \n",
       "4  35.0        S   8.0500      0            5       3    male      0   \n",
       "\n",
       "   Survived Prefix  \n",
       "0       0.0     Mr  \n",
       "1       1.0    Mrs  \n",
       "2       1.0   Miss  \n",
       "3       1.0    Mrs  \n",
       "4       0.0     Mr  "
      ]
     },
     "execution_count": 4,
     "metadata": {},
     "output_type": "execute_result"
    }
   ],
   "source": [
    "def prefix_gen(x):\n",
    "    prefix = x['Prefix']\n",
    "    if prefix in ['Capt', 'Col', 'Don', 'Jonkheer', 'Major', 'Rev', 'Sir']:\n",
    "        return 'Mr'\n",
    "    elif prefix in ['the Countess', 'Mme', 'Lady', 'Dona']:\n",
    "        return 'Mrs'\n",
    "    elif prefix in ['Mlle', 'Ms']:\n",
    "        return 'Miss'\n",
    "    elif prefix =='Dr':\n",
    "        if x['Sex']=='male':\n",
    "            return 'Mr'\n",
    "        else:\n",
    "            return 'Mrs'\n",
    "    else:\n",
    "        return prefix\n",
    "    \n",
    "fullData['Prefix'] = fullData.apply(prefix_gen, axis=1)\n",
    "\n",
    "print('Sex column values:')\n",
    "print(fullData.Sex.value_counts())\n",
    "print()\n",
    "print('Title column values. Males and females are the same that for the \"Sex\" column:')\n",
    "print(fullData['Prefix'].value_counts())\n",
    "\n",
    "# Plot the result\n",
    "fullData['Prefix'].value_counts().plot(kind='bar')\n",
    "\n",
    "fullData.head()"
   ]
  },
  {
   "cell_type": "code",
   "execution_count": 6,
   "metadata": {
    "execution": {
     "iopub.execute_input": "2021-01-06T17:01:11.241492Z",
     "iopub.status.busy": "2021-01-06T17:01:11.236966Z",
     "iopub.status.idle": "2021-01-06T17:01:12.467671Z",
     "shell.execute_reply": "2021-01-06T17:01:12.468183Z"
    },
    "papermill": {
     "duration": 1.287529,
     "end_time": "2021-01-06T17:01:12.468354",
     "exception": false,
     "start_time": "2021-01-06T17:01:11.180825",
     "status": "completed"
    },
    "tags": []
   },
   "outputs": [
    {
     "name": "stderr",
     "output_type": "stream",
     "text": [
      "C:\\Users\\Anterpreet\\Anaconda3\\lib\\site-packages\\seaborn\\categorical.py:588: FutureWarning: remove_na is deprecated and is a private function. Do not use.\n",
      "  kde_data = remove_na(group_data)\n",
      "C:\\Users\\Anterpreet\\Anaconda3\\lib\\site-packages\\seaborn\\categorical.py:816: FutureWarning: remove_na is deprecated and is a private function. Do not use.\n",
      "  violin_data = remove_na(group_data)\n"
     ]
    },
    {
     "data": {
      "image/png": "iVBORw0KGgoAAAANSUhEUgAAAeQAAAFfCAYAAACfo79PAAAABHNCSVQICAgIfAhkiAAAAAlwSFlz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\nGQAAAxBkAAAMQJABADDA/wAi9iXEiC7fowAAAABJRU5ErkJggg==\n",
      "text/plain": [
       "<Figure size 576x396 with 1 Axes>"
      ]
     },
     "metadata": {},
     "output_type": "display_data"
    },
    {
     "data": {
      "image/png": "iVBORw0KGgoAAAANSUhEUgAABI0AAAIVCAYAAABcLQ8gAAAABHNCSVQICAgIfAhkiAAAAAlwSFlz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\n3Zi/AAAAAElFTkSuQmCC\n",
      "text/plain": [
       "<Figure size 1440x648 with 8 Axes>"
      ]
     },
     "metadata": {},
     "output_type": "display_data"
    },
    {
     "data": {
      "image/png": "iVBORw0KGgoAAAANSUhEUgAABI0AAAIVCAYAAABcLQ8gAAAABHNCSVQICAgIfAhkiAAAAAlwSFlz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\n3Zi/AAAAAElFTkSuQmCC\n",
      "text/plain": [
       "<Figure size 1440x648 with 8 Axes>"
      ]
     },
     "metadata": {},
     "output_type": "display_data"
    }
   ],
   "source": [
    "fig, axes = plt.subplots(nrows=2, ncols=4, figsize=(20, 9))\n",
    "\n",
    "sns.violinplot(x=\"Survived\", y=\"Pclass\", data=fullData, ax=axes[0,0])\n",
    "sns.violinplot(x=\"Survived\", y=\"Sex\", data=fullData, ax=axes[0,1])\n",
    "sns.violinplot(x=\"Survived\", y=\"Age\", data=fullData, ax=axes[0,2])\n",
    "sns.violinplot(x=\"Survived\", y=\"SibSp\", data=fullData, ax=axes[0,3])\n",
    "sns.violinplot(x=\"Survived\", y=\"Parch\", data=fullData, ax=axes[1,0])\n",
    "sns.violinplot(x=\"Survived\", y=\"Fare\", data=fullData, ax=axes[1,1])\n",
    "sns.violinplot(x=\"Survived\", y=\"Embarked\", data=fullData, ax=axes[1,2])\n",
    "sns.violinplot(x=\"Survived\", y=\"Prefix\", data=fullData, ax=axes[1,3])\n",
    "plt.show()"
   ]
  },
  {
   "cell_type": "code",
   "execution_count": 8,
   "metadata": {
    "execution": {
     "iopub.execute_input": "2021-01-06T17:01:12.548214Z",
     "iopub.status.busy": "2021-01-06T17:01:12.547569Z",
     "iopub.status.idle": "2021-01-06T17:01:13.404930Z",
     "shell.execute_reply": "2021-01-06T17:01:13.405647Z"
    },
    "papermill": {
     "duration": 0.902142,
     "end_time": "2021-01-06T17:01:13.405824",
     "exception": false,
     "start_time": "2021-01-06T17:01:12.503682",
     "status": "completed"
    },
    "tags": []
   },
   "outputs": [
    {
     "name": "stderr",
     "output_type": "stream",
     "text": [
      "C:\\Users\\Anterpreet\\Anaconda3\\lib\\site-packages\\seaborn\\categorical.py:1468: FutureWarning: remove_na is deprecated and is a private function. Do not use.\n",
      "  stat_data = remove_na(group_data[hue_mask])\n"
     ]
    },
    {
     "data": {
      "image/png": "iVBORw0KGgoAAAANSUhEUgAABJAAAAFyCAYAAACqZCAHAAAABHNCSVQICAgIfAhkiAAAAAlwSFlz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\nTkSuQmCC\n",
      "text/plain": [
       "<Figure size 1440x432 with 6 Axes>"
      ]
     },
     "metadata": {},
     "output_type": "display_data"
    },
    {
     "data": {
      "image/png": "iVBORw0KGgoAAAANSUhEUgAABJAAAAFyCAYAAACqZCAHAAAABHNCSVQICAgIfAhkiAAAAAlwSFlz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\nTkSuQmCC\n",
      "text/plain": [
       "<Figure size 1440x432 with 6 Axes>"
      ]
     },
     "metadata": {},
     "output_type": "display_data"
    }
   ],
   "source": [
    "fig, axes = plt.subplots(nrows=2, ncols=3, figsize=(20, 6))\n",
    "\n",
    "sns.countplot(x='Survived',hue='Pclass',data=fullData, ax=axes[0,0])\n",
    "sns.countplot(x=\"Survived\", hue=\"Sex\", data=fullData, ax=axes[0,1])\n",
    "sns.countplot(x=\"Survived\", hue=\"SibSp\", data=fullData, ax=axes[0,2])\n",
    "sns.countplot(x=\"Survived\", hue=\"Parch\", data=fullData, ax=axes[1,0])\n",
    "sns.countplot(x=\"Survived\", hue=\"Embarked\", data=fullData, ax=axes[1,1])\n",
    "sns.countplot(x=\"Survived\", hue=\"Prefix\", data=fullData, ax=axes[1,2])\n",
    "plt.show()"
   ]
  },
  {
   "cell_type": "code",
   "execution_count": 9,
   "metadata": {
    "execution": {
     "iopub.execute_input": "2021-01-06T17:01:13.518526Z",
     "iopub.status.busy": "2021-01-06T17:01:13.517705Z",
     "iopub.status.idle": "2021-01-06T17:01:13.529102Z",
     "shell.execute_reply": "2021-01-06T17:01:13.528440Z"
    },
    "papermill": {
     "duration": 0.071071,
     "end_time": "2021-01-06T17:01:13.529231",
     "exception": false,
     "start_time": "2021-01-06T17:01:13.458160",
     "status": "completed"
    },
    "tags": []
   },
   "outputs": [
    {
     "name": "stdout",
     "output_type": "stream",
     "text": [
      "fullData:\n",
      " Age             float64\n",
      "Embarked       category\n",
      "Fare            float64\n",
      "Parch             int64\n",
      "PassengerId       int64\n",
      "Pclass            int64\n",
      "Sex            category\n",
      "SibSp             int64\n",
      "Survived        float64\n",
      "Prefix         category\n",
      "dtype: object\n"
     ]
    }
   ],
   "source": [
    "# Converting few cols to categorical\n",
    "cat_vars = ['Sex', 'Embarked', 'Prefix']\n",
    "\n",
    "for var in cat_vars:\n",
    "    fullData[var] = fullData[var].astype('category')\n",
    "\n",
    "\n",
    "print('fullData:\\n',fullData.dtypes)\n"
   ]
  },
  {
   "cell_type": "code",
   "execution_count": 10,
   "metadata": {
    "collapsed": true,
    "execution": {
     "iopub.execute_input": "2021-01-06T17:01:13.655836Z",
     "iopub.status.busy": "2021-01-06T17:01:13.650368Z",
     "iopub.status.idle": "2021-01-06T17:01:13.677444Z",
     "shell.execute_reply": "2021-01-06T17:01:13.678140Z"
    },
    "papermill": {
     "duration": 0.096592,
     "end_time": "2021-01-06T17:01:13.678335",
     "exception": false,
     "start_time": "2021-01-06T17:01:13.581743",
     "status": "completed"
    },
    "tags": []
   },
   "outputs": [],
   "source": [
    "def splitData(df):\n",
    "    \"\"\" Ranomly Splits the data into 80-20 split and returns 2 datasets. \"\"\"\n",
    "    \n",
    "    assert type(df) is pd.core.frame.DataFrame, \"Please ensure input is a Pandas Dataframe\"\n",
    "    \n",
    "    sampleInd = random.sample(range(len(df)), len(df)//5)\n",
    "    \n",
    "    train, valid = pd.DataFrame(), pd.DataFrame()\n",
    "    for i in range(len(df)):\n",
    "        if i in sampleInd:\n",
    "            valid = valid.append(df.iloc[i,:])\n",
    "        else:\n",
    "            train = train.append(df.iloc[i,:])\n",
    "    \n",
    "    return train, valid\n",
    "\n",
    "\n",
    "def categorise_col(df, col):\n",
    "    \"\"\" Creates new column (col) in the df provided with _cat \n",
    "        added to the original name of the col. Return new data.\"\"\"\n",
    "    tempDict = {b:a for a,b in enumerate(list(df[col].unique()))}\n",
    "    df[col+'_cat'] = df[col].map(tempDict).astype('category')\n",
    "    return df\n",
    "\n",
    "def hist_plotter(df, col, missingColList):\n",
    "    assert type(missingColList) is list, 'Please ensure missingColList is a List'\n",
    "    df_temp = df.copy()\n",
    "    \n",
    "    full_df = df_temp[col].sort_values()\n",
    "         \n",
    "    ncols_ = len(missingColList) + 1\n",
    "    \n",
    "    fig, axes = plt.subplots(nrows=1, ncols=ncols_, figsize=(5*ncols_, 3))\n",
    "    axes[0].hist(full_df, weights=np.ones(len(full_df)) / len(full_df))\n",
    "    axes[0].set_title('Histogram for {}\\nFull Data'.format(col))\n",
    "    axes[0].yaxis.set_major_formatter(PercentFormatter(1))\n",
    "    axes[0].set_ylim(top=1)\n",
    "    \n",
    "    for i in range(len(missingColList)):\n",
    "        subset = df_temp[df_temp[missingColList[i]].isna()][col].sort_values()\n",
    "        axes[i+1].hist(subset, weights=np.ones(len(subset)) / len(subset))\n",
    "        axes[i+1].set_title('Histogram for {}\\nUsing data where {} is missing'.format(col, missingColList[i]))\n",
    "        axes[i+1].yaxis.set_major_formatter(PercentFormatter(1))\n",
    "        axes[i+1].set_ylim(top=1)\n",
    "        \n",
    "def dummy_to_cat(df, new_var_nm, dummylist):\n",
    "    assert type(df) is pd.core.frame.DataFrame, \"Please ensure input is a Pandas Dataframe\"\n",
    "    df2 = df.copy()\n",
    "    df2[new_var_nm] = df2[dummylist].idxmax(axis=1)\n",
    "    df2[['temp',new_var_nm]] = df2[new_var_nm].str.split('_',expand=True)\n",
    "    df2.drop(['temp'], axis=1, inplace=True)\n",
    "    df2.drop(dummylist, axis=1, inplace=True)\n",
    "    return df2"
   ]
  },
  {
   "cell_type": "markdown",
   "metadata": {
    "papermill": {
     "duration": 0.064904,
     "end_time": "2021-01-06T17:01:13.806984",
     "exception": false,
     "start_time": "2021-01-06T17:01:13.742080",
     "status": "completed"
    },
    "tags": []
   },
   "source": [
    "# Descriptive Statistics"
   ]
  },
  {
   "cell_type": "code",
   "execution_count": 11,
   "metadata": {
    "execution": {
     "iopub.execute_input": "2021-01-06T17:01:13.927698Z",
     "iopub.status.busy": "2021-01-06T17:01:13.926870Z",
     "iopub.status.idle": "2021-01-06T17:01:13.978592Z",
     "shell.execute_reply": "2021-01-06T17:01:13.979107Z"
    },
    "papermill": {
     "duration": 0.113156,
     "end_time": "2021-01-06T17:01:13.979241",
     "exception": false,
     "start_time": "2021-01-06T17:01:13.866085",
     "status": "completed"
    },
    "tags": []
   },
   "outputs": [
    {
     "data": {
      "text/html": [
       "<div>\n",
       "<style scoped>\n",
       "    .dataframe tbody tr th:only-of-type {\n",
       "        vertical-align: middle;\n",
       "    }\n",
       "\n",
       "    .dataframe tbody tr th {\n",
       "        vertical-align: top;\n",
       "    }\n",
       "\n",
       "    .dataframe thead th {\n",
       "        text-align: right;\n",
       "    }\n",
       "</style>\n",
       "<table border=\"1\" class=\"dataframe\">\n",
       "  <thead>\n",
       "    <tr style=\"text-align: right;\">\n",
       "      <th></th>\n",
       "      <th>Age</th>\n",
       "      <th>Embarked</th>\n",
       "      <th>Fare</th>\n",
       "      <th>Parch</th>\n",
       "      <th>PassengerId</th>\n",
       "      <th>Pclass</th>\n",
       "      <th>Sex</th>\n",
       "      <th>SibSp</th>\n",
       "      <th>Survived</th>\n",
       "      <th>Prefix</th>\n",
       "    </tr>\n",
       "  </thead>\n",
       "  <tbody>\n",
       "    <tr>\n",
       "      <th>count</th>\n",
       "      <td>1046.000000</td>\n",
       "      <td>1307</td>\n",
       "      <td>1308.000000</td>\n",
       "      <td>1309.000000</td>\n",
       "      <td>1309.000000</td>\n",
       "      <td>1309.000000</td>\n",
       "      <td>1309</td>\n",
       "      <td>1309.000000</td>\n",
       "      <td>891.000000</td>\n",
       "      <td>1309</td>\n",
       "    </tr>\n",
       "    <tr>\n",
       "      <th>unique</th>\n",
       "      <td>NaN</td>\n",
       "      <td>3</td>\n",
       "      <td>NaN</td>\n",
       "      <td>NaN</td>\n",
       "      <td>NaN</td>\n",
       "      <td>NaN</td>\n",
       "      <td>2</td>\n",
       "      <td>NaN</td>\n",
       "      <td>NaN</td>\n",
       "      <td>4</td>\n",
       "    </tr>\n",
       "    <tr>\n",
       "      <th>top</th>\n",
       "      <td>NaN</td>\n",
       "      <td>S</td>\n",
       "      <td>NaN</td>\n",
       "      <td>NaN</td>\n",
       "      <td>NaN</td>\n",
       "      <td>NaN</td>\n",
       "      <td>male</td>\n",
       "      <td>NaN</td>\n",
       "      <td>NaN</td>\n",
       "      <td>Mr</td>\n",
       "    </tr>\n",
       "    <tr>\n",
       "      <th>freq</th>\n",
       "      <td>NaN</td>\n",
       "      <td>914</td>\n",
       "      <td>NaN</td>\n",
       "      <td>NaN</td>\n",
       "      <td>NaN</td>\n",
       "      <td>NaN</td>\n",
       "      <td>843</td>\n",
       "      <td>NaN</td>\n",
       "      <td>NaN</td>\n",
       "      <td>782</td>\n",
       "    </tr>\n",
       "    <tr>\n",
       "      <th>mean</th>\n",
       "      <td>29.881138</td>\n",
       "      <td>NaN</td>\n",
       "      <td>33.295479</td>\n",
       "      <td>0.385027</td>\n",
       "      <td>655.000000</td>\n",
       "      <td>2.294882</td>\n",
       "      <td>NaN</td>\n",
       "      <td>0.498854</td>\n",
       "      <td>0.383838</td>\n",
       "      <td>NaN</td>\n",
       "    </tr>\n",
       "    <tr>\n",
       "      <th>std</th>\n",
       "      <td>14.413493</td>\n",
       "      <td>NaN</td>\n",
       "      <td>51.758668</td>\n",
       "      <td>0.865560</td>\n",
       "      <td>378.020061</td>\n",
       "      <td>0.837836</td>\n",
       "      <td>NaN</td>\n",
       "      <td>1.041658</td>\n",
       "      <td>0.486592</td>\n",
       "      <td>NaN</td>\n",
       "    </tr>\n",
       "    <tr>\n",
       "      <th>min</th>\n",
       "      <td>0.170000</td>\n",
       "      <td>NaN</td>\n",
       "      <td>0.000000</td>\n",
       "      <td>0.000000</td>\n",
       "      <td>1.000000</td>\n",
       "      <td>1.000000</td>\n",
       "      <td>NaN</td>\n",
       "      <td>0.000000</td>\n",
       "      <td>0.000000</td>\n",
       "      <td>NaN</td>\n",
       "    </tr>\n",
       "    <tr>\n",
       "      <th>25%</th>\n",
       "      <td>21.000000</td>\n",
       "      <td>NaN</td>\n",
       "      <td>7.895800</td>\n",
       "      <td>0.000000</td>\n",
       "      <td>328.000000</td>\n",
       "      <td>2.000000</td>\n",
       "      <td>NaN</td>\n",
       "      <td>0.000000</td>\n",
       "      <td>0.000000</td>\n",
       "      <td>NaN</td>\n",
       "    </tr>\n",
       "    <tr>\n",
       "      <th>50%</th>\n",
       "      <td>28.000000</td>\n",
       "      <td>NaN</td>\n",
       "      <td>14.454200</td>\n",
       "      <td>0.000000</td>\n",
       "      <td>655.000000</td>\n",
       "      <td>3.000000</td>\n",
       "      <td>NaN</td>\n",
       "      <td>0.000000</td>\n",
       "      <td>0.000000</td>\n",
       "      <td>NaN</td>\n",
       "    </tr>\n",
       "    <tr>\n",
       "      <th>75%</th>\n",
       "      <td>39.000000</td>\n",
       "      <td>NaN</td>\n",
       "      <td>31.275000</td>\n",
       "      <td>0.000000</td>\n",
       "      <td>982.000000</td>\n",
       "      <td>3.000000</td>\n",
       "      <td>NaN</td>\n",
       "      <td>1.000000</td>\n",
       "      <td>1.000000</td>\n",
       "      <td>NaN</td>\n",
       "    </tr>\n",
       "    <tr>\n",
       "      <th>max</th>\n",
       "      <td>80.000000</td>\n",
       "      <td>NaN</td>\n",
       "      <td>512.329200</td>\n",
       "      <td>9.000000</td>\n",
       "      <td>1309.000000</td>\n",
       "      <td>3.000000</td>\n",
       "      <td>NaN</td>\n",
       "      <td>8.000000</td>\n",
       "      <td>1.000000</td>\n",
       "      <td>NaN</td>\n",
       "    </tr>\n",
       "  </tbody>\n",
       "</table>\n",
       "</div>"
      ],
      "text/plain": [
       "                Age Embarked         Fare        Parch  PassengerId  \\\n",
       "count   1046.000000     1307  1308.000000  1309.000000  1309.000000   \n",
       "unique          NaN        3          NaN          NaN          NaN   \n",
       "top             NaN        S          NaN          NaN          NaN   \n",
       "freq            NaN      914          NaN          NaN          NaN   \n",
       "mean      29.881138      NaN    33.295479     0.385027   655.000000   \n",
       "std       14.413493      NaN    51.758668     0.865560   378.020061   \n",
       "min        0.170000      NaN     0.000000     0.000000     1.000000   \n",
       "25%       21.000000      NaN     7.895800     0.000000   328.000000   \n",
       "50%       28.000000      NaN    14.454200     0.000000   655.000000   \n",
       "75%       39.000000      NaN    31.275000     0.000000   982.000000   \n",
       "max       80.000000      NaN   512.329200     9.000000  1309.000000   \n",
       "\n",
       "             Pclass   Sex        SibSp    Survived Prefix  \n",
       "count   1309.000000  1309  1309.000000  891.000000   1309  \n",
       "unique          NaN     2          NaN         NaN      4  \n",
       "top             NaN  male          NaN         NaN     Mr  \n",
       "freq            NaN   843          NaN         NaN    782  \n",
       "mean       2.294882   NaN     0.498854    0.383838    NaN  \n",
       "std        0.837836   NaN     1.041658    0.486592    NaN  \n",
       "min        1.000000   NaN     0.000000    0.000000    NaN  \n",
       "25%        2.000000   NaN     0.000000    0.000000    NaN  \n",
       "50%        3.000000   NaN     0.000000    0.000000    NaN  \n",
       "75%        3.000000   NaN     1.000000    1.000000    NaN  \n",
       "max        3.000000   NaN     8.000000    1.000000    NaN  "
      ]
     },
     "execution_count": 11,
     "metadata": {},
     "output_type": "execute_result"
    }
   ],
   "source": [
    "# Decriptive Statistics\n",
    "fullData.describe(include='all')"
   ]
  },
  {
   "cell_type": "code",
   "execution_count": 12,
   "metadata": {
    "execution": {
     "iopub.execute_input": "2021-01-06T17:01:14.065641Z",
     "iopub.status.busy": "2021-01-06T17:01:14.064753Z",
     "iopub.status.idle": "2021-01-06T17:01:14.070332Z",
     "shell.execute_reply": "2021-01-06T17:01:14.069656Z"
    },
    "papermill": {
     "duration": 0.052933,
     "end_time": "2021-01-06T17:01:14.070442",
     "exception": false,
     "start_time": "2021-01-06T17:01:14.017509",
     "status": "completed"
    },
    "tags": []
   },
   "outputs": [
    {
     "name": "stdout",
     "output_type": "stream",
     "text": [
      "fullData:\n",
      " Age            263\n",
      "Embarked         2\n",
      "Fare             1\n",
      "Parch            0\n",
      "PassengerId      0\n",
      "Pclass           0\n",
      "Sex              0\n",
      "SibSp            0\n",
      "Survived       418\n",
      "Prefix           0\n",
      "dtype: int64\n",
      "--------------------\n"
     ]
    }
   ],
   "source": [
    "# checking all the fields that have nan values\n",
    "print('fullData:\\n',fullData.isnull().sum())\n",
    "print('-'*20)\n"
   ]
  },
  {
   "cell_type": "markdown",
   "metadata": {
    "papermill": {
     "duration": 0.038873,
     "end_time": "2021-01-06T17:01:14.147734",
     "exception": false,
     "start_time": "2021-01-06T17:01:14.108861",
     "status": "completed"
    },
    "tags": []
   },
   "source": [
    "# Data Manipulations & Imputing missing variables"
   ]
  },
  {
   "cell_type": "code",
   "execution_count": 14,
   "metadata": {
    "execution": {
     "iopub.execute_input": "2021-01-06T17:01:14.226694Z",
     "iopub.status.busy": "2021-01-06T17:01:14.226063Z",
     "iopub.status.idle": "2021-01-06T17:01:14.725523Z",
     "shell.execute_reply": "2021-01-06T17:01:14.724449Z"
    },
    "papermill": {
     "duration": 0.539808,
     "end_time": "2021-01-06T17:01:14.725654",
     "exception": false,
     "start_time": "2021-01-06T17:01:14.185846",
     "status": "completed"
    },
    "tags": []
   },
   "outputs": [
    {
     "data": {
      "image/png": "iVBORw0KGgoAAAANSUhEUgAAAmIAAADPCAYAAABWS73/AAAABHNCSVQICAgIfAhkiAAAAAlwSFlz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\n",
      "text/plain": [
       "<Figure size 720x216 with 3 Axes>"
      ]
     },
     "metadata": {},
     "output_type": "display_data"
    },
    {
     "data": {
      "image/png": "iVBORw0KGgoAAAANSUhEUgAAAmIAAADPCAYAAABWS73/AAAABHNCSVQICAgIfAhkiAAAAAlwSFlz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\n",
      "text/plain": [
       "<Figure size 720x216 with 3 Axes>"
      ]
     },
     "metadata": {},
     "output_type": "display_data"
    }
   ],
   "source": [
    "# Plotting distributions for missing variables\n",
    "fig, axes = plt.subplots(nrows=1, ncols=3, figsize=(10, 3))\n",
    "\n",
    "fullData['Age'].plot(ax=axes[0], kind='hist', title='Age')\n",
    "fullData['Embarked'].value_counts().plot(ax=axes[1], kind='bar', title='Embarked')\n",
    "fullData['Fare'].value_counts().plot.hist(ax=axes[2], title='Fare')\n",
    "plt.show()"
   ]
  },
  {
   "cell_type": "code",
   "execution_count": 15,
   "metadata": {
    "execution": {
     "iopub.execute_input": "2021-01-06T17:01:14.820956Z",
     "iopub.status.busy": "2021-01-06T17:01:14.812987Z",
     "iopub.status.idle": "2021-01-06T17:01:15.212641Z",
     "shell.execute_reply": "2021-01-06T17:01:15.212008Z"
    },
    "papermill": {
     "duration": 0.447848,
     "end_time": "2021-01-06T17:01:15.212754",
     "exception": false,
     "start_time": "2021-01-06T17:01:14.764906",
     "status": "completed"
    },
    "tags": []
   },
   "outputs": [
    {
     "data": {
      "image/png": "iVBORw0KGgoAAAANSUhEUgAAAmcAAADPCAYAAACwYna7AAAABHNCSVQICAgIfAhkiAAAAAlwSFlz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\niIiYiJozERERERP5f6X+p+TBMtO6AAAAAElFTkSuQmCC\n",
      "text/plain": [
       "<Figure size 720x216 with 2 Axes>"
      ]
     },
     "metadata": {},
     "output_type": "display_data"
    }
   ],
   "source": [
    "# Fare:\n",
    "# Filling missing values in Fare with the mean value as only 1 point is missing.\n",
    "fullData['Fare'] = fullData['Fare'].fillna(fullData['Fare'].mean())\n",
    "\n",
    "# Adding Scaled version of the Fare:\n",
    "x, y = fullData['Fare'].min(), fullData['Fare'].max()\n",
    "fullData['Fare_Scaled'] = (fullData['Fare'] - x) / (y - x)\n",
    "\n",
    "# Distribution Plots\n",
    "fig, axes = plt.subplots(nrows=1, ncols=2, figsize=(10, 3))\n",
    "fullData['Fare'].plot(ax=axes[0], kind='hist', title='Full Data - Fare - Unscaled')\n",
    "fullData['Fare_Scaled'].plot(ax=axes[1], kind='hist', title='Full Data - Fare - Scaled')\n",
    "plt.show()"
   ]
  },
  {
   "cell_type": "markdown",
   "metadata": {
    "papermill": {
     "duration": 0.039958,
     "end_time": "2021-01-06T17:01:15.293724",
     "exception": false,
     "start_time": "2021-01-06T17:01:15.253766",
     "status": "completed"
    },
    "tags": []
   },
   "source": [
    "**Imputing Embarked and Fare in Train and Test Datasets Respectively**"
   ]
  },
  {
   "cell_type": "code",
   "execution_count": 16,
   "metadata": {
    "execution": {
     "iopub.execute_input": "2021-01-06T17:01:15.381888Z",
     "iopub.status.busy": "2021-01-06T17:01:15.381015Z",
     "iopub.status.idle": "2021-01-06T17:01:15.389758Z",
     "shell.execute_reply": "2021-01-06T17:01:15.388940Z"
    },
    "papermill": {
     "duration": 0.055135,
     "end_time": "2021-01-06T17:01:15.389909",
     "exception": false,
     "start_time": "2021-01-06T17:01:15.334774",
     "status": "completed"
    },
    "tags": []
   },
   "outputs": [
    {
     "name": "stdout",
     "output_type": "stream",
     "text": [
      "Full Data:\n",
      " Age            263\n",
      "Embarked         0\n",
      "Fare             0\n",
      "Parch            0\n",
      "PassengerId      0\n",
      "Pclass           0\n",
      "Sex              0\n",
      "SibSp            0\n",
      "Survived       418\n",
      "Prefix           0\n",
      "Fare_Scaled      0\n",
      "dtype: int64\n",
      "--------------------\n"
     ]
    }
   ],
   "source": [
    "# imputing Embarked:\n",
    "# Filling missing values in Embarked with the most frequent value as it is a categorical var and only 2 points are missing.\n",
    "fullData['Embarked'] = fullData['Embarked'].fillna(fullData['Embarked'].mode()[0])\n",
    "\n",
    "# checking all the fields that have nan values\n",
    "print('Full Data:\\n',fullData.isnull().sum())\n",
    "print('-'*20)\n"
   ]
  },
  {
   "cell_type": "markdown",
   "metadata": {
    "papermill": {
     "duration": 0.041946,
     "end_time": "2021-01-06T17:01:15.473798",
     "exception": false,
     "start_time": "2021-01-06T17:01:15.431852",
     "status": "completed"
    },
    "tags": []
   },
   "source": [
    "**Inputing for Age in both Test and Train Data together**"
   ]
  },
  {
   "cell_type": "code",
   "execution_count": 18,
   "metadata": {
    "execution": {
     "iopub.execute_input": "2021-01-06T17:01:16.857792Z",
     "iopub.status.busy": "2021-01-06T17:01:16.856630Z",
     "iopub.status.idle": "2021-01-06T17:01:16.879028Z",
     "shell.execute_reply": "2021-01-06T17:01:16.879915Z"
    },
    "papermill": {
     "duration": 0.11003,
     "end_time": "2021-01-06T17:01:16.880086",
     "exception": false,
     "start_time": "2021-01-06T17:01:16.770056",
     "status": "completed"
    },
    "tags": []
   },
   "outputs": [
    {
     "data": {
      "text/html": [
       "<div>\n",
       "<style scoped>\n",
       "    .dataframe tbody tr th:only-of-type {\n",
       "        vertical-align: middle;\n",
       "    }\n",
       "\n",
       "    .dataframe tbody tr th {\n",
       "        vertical-align: top;\n",
       "    }\n",
       "\n",
       "    .dataframe thead th {\n",
       "        text-align: right;\n",
       "    }\n",
       "</style>\n",
       "<table border=\"1\" class=\"dataframe\">\n",
       "  <thead>\n",
       "    <tr style=\"text-align: right;\">\n",
       "      <th></th>\n",
       "      <th>Age</th>\n",
       "      <th>Fare</th>\n",
       "      <th>Parch</th>\n",
       "      <th>PassengerId</th>\n",
       "      <th>Pclass</th>\n",
       "      <th>SibSp</th>\n",
       "      <th>Survived</th>\n",
       "      <th>Fare_Scaled</th>\n",
       "      <th>Embarked_C</th>\n",
       "      <th>Embarked_Q</th>\n",
       "      <th>Embarked_S</th>\n",
       "      <th>Sex_female</th>\n",
       "      <th>Sex_male</th>\n",
       "      <th>Prefix_Master</th>\n",
       "      <th>Prefix_Miss</th>\n",
       "      <th>Prefix_Mr</th>\n",
       "      <th>Prefix_Mrs</th>\n",
       "    </tr>\n",
       "  </thead>\n",
       "  <tbody>\n",
       "    <tr>\n",
       "      <th>0</th>\n",
       "      <td>22.0</td>\n",
       "      <td>7.2500</td>\n",
       "      <td>0</td>\n",
       "      <td>1</td>\n",
       "      <td>3</td>\n",
       "      <td>1</td>\n",
       "      <td>0.0</td>\n",
       "      <td>0.014151</td>\n",
       "      <td>0</td>\n",
       "      <td>0</td>\n",
       "      <td>1</td>\n",
       "      <td>0</td>\n",
       "      <td>1</td>\n",
       "      <td>0</td>\n",
       "      <td>0</td>\n",
       "      <td>1</td>\n",
       "      <td>0</td>\n",
       "    </tr>\n",
       "    <tr>\n",
       "      <th>1</th>\n",
       "      <td>38.0</td>\n",
       "      <td>71.2833</td>\n",
       "      <td>0</td>\n",
       "      <td>2</td>\n",
       "      <td>1</td>\n",
       "      <td>1</td>\n",
       "      <td>1.0</td>\n",
       "      <td>0.139136</td>\n",
       "      <td>1</td>\n",
       "      <td>0</td>\n",
       "      <td>0</td>\n",
       "      <td>1</td>\n",
       "      <td>0</td>\n",
       "      <td>0</td>\n",
       "      <td>0</td>\n",
       "      <td>0</td>\n",
       "      <td>1</td>\n",
       "    </tr>\n",
       "    <tr>\n",
       "      <th>2</th>\n",
       "      <td>26.0</td>\n",
       "      <td>7.9250</td>\n",
       "      <td>0</td>\n",
       "      <td>3</td>\n",
       "      <td>3</td>\n",
       "      <td>0</td>\n",
       "      <td>1.0</td>\n",
       "      <td>0.015469</td>\n",
       "      <td>0</td>\n",
       "      <td>0</td>\n",
       "      <td>1</td>\n",
       "      <td>1</td>\n",
       "      <td>0</td>\n",
       "      <td>0</td>\n",
       "      <td>1</td>\n",
       "      <td>0</td>\n",
       "      <td>0</td>\n",
       "    </tr>\n",
       "    <tr>\n",
       "      <th>3</th>\n",
       "      <td>35.0</td>\n",
       "      <td>53.1000</td>\n",
       "      <td>0</td>\n",
       "      <td>4</td>\n",
       "      <td>1</td>\n",
       "      <td>1</td>\n",
       "      <td>1.0</td>\n",
       "      <td>0.103644</td>\n",
       "      <td>0</td>\n",
       "      <td>0</td>\n",
       "      <td>1</td>\n",
       "      <td>1</td>\n",
       "      <td>0</td>\n",
       "      <td>0</td>\n",
       "      <td>0</td>\n",
       "      <td>0</td>\n",
       "      <td>1</td>\n",
       "    </tr>\n",
       "    <tr>\n",
       "      <th>4</th>\n",
       "      <td>35.0</td>\n",
       "      <td>8.0500</td>\n",
       "      <td>0</td>\n",
       "      <td>5</td>\n",
       "      <td>3</td>\n",
       "      <td>0</td>\n",
       "      <td>0.0</td>\n",
       "      <td>0.015713</td>\n",
       "      <td>0</td>\n",
       "      <td>0</td>\n",
       "      <td>1</td>\n",
       "      <td>0</td>\n",
       "      <td>1</td>\n",
       "      <td>0</td>\n",
       "      <td>0</td>\n",
       "      <td>1</td>\n",
       "      <td>0</td>\n",
       "    </tr>\n",
       "  </tbody>\n",
       "</table>\n",
       "</div>"
      ],
      "text/plain": [
       "    Age     Fare  Parch  PassengerId  Pclass  SibSp  Survived  Fare_Scaled  \\\n",
       "0  22.0   7.2500      0            1       3      1       0.0     0.014151   \n",
       "1  38.0  71.2833      0            2       1      1       1.0     0.139136   \n",
       "2  26.0   7.9250      0            3       3      0       1.0     0.015469   \n",
       "3  35.0  53.1000      0            4       1      1       1.0     0.103644   \n",
       "4  35.0   8.0500      0            5       3      0       0.0     0.015713   \n",
       "\n",
       "   Embarked_C  Embarked_Q  Embarked_S  Sex_female  Sex_male  Prefix_Master  \\\n",
       "0           0           0           1           0         1              0   \n",
       "1           1           0           0           1         0              0   \n",
       "2           0           0           1           1         0              0   \n",
       "3           0           0           1           1         0              0   \n",
       "4           0           0           1           0         1              0   \n",
       "\n",
       "   Prefix_Miss  Prefix_Mr  Prefix_Mrs  \n",
       "0            0          1           0  \n",
       "1            0          0           1  \n",
       "2            1          0           0  \n",
       "3            0          0           1  \n",
       "4            0          1           0  "
      ]
     },
     "execution_count": 18,
     "metadata": {},
     "output_type": "execute_result"
    }
   ],
   "source": [
    "# imputing Age:\n",
    "# creating dummy variables for linear reg\n",
    "fullData = pd.get_dummies(data=fullData)\n",
    "\n",
    "# creating subsets of original imported data for appending them after imputing Age\n",
    "fullDataWithAge = fullData[fullData['Age'].notna()]\n",
    "fullDataWithoutAge = fullData[fullData['Age'].isna()]\n",
    "\n",
    "fullDataWithAge.head()"
   ]
  },
  {
   "cell_type": "code",
   "execution_count": 19,
   "metadata": {
    "collapsed": true,
    "execution": {
     "iopub.execute_input": "2021-01-06T17:01:17.021391Z",
     "iopub.status.busy": "2021-01-06T17:01:17.020432Z",
     "iopub.status.idle": "2021-01-06T17:01:17.025011Z",
     "shell.execute_reply": "2021-01-06T17:01:17.024465Z"
    },
    "papermill": {
     "duration": 0.078582,
     "end_time": "2021-01-06T17:01:17.025123",
     "exception": false,
     "start_time": "2021-01-06T17:01:16.946541",
     "status": "completed"
    },
    "tags": []
   },
   "outputs": [],
   "source": [
    "X = fullDataWithAge[['Pclass','Prefix_Master','Prefix_Miss','Prefix_Mr','Prefix_Mrs',\n",
    "                     'Embarked_C','Embarked_Q','Embarked_S','SibSp','Parch','Fare_Scaled']].values\n",
    "y = fullDataWithAge['Age'].values"
   ]
  },
  {
   "cell_type": "markdown",
   "metadata": {
    "papermill": {
     "duration": 0.045185,
     "end_time": "2021-01-06T17:01:17.116271",
     "exception": false,
     "start_time": "2021-01-06T17:01:17.071086",
     "status": "completed"
    },
    "tags": []
   },
   "source": [
    "**Linear Regression - for Age Imputation**"
   ]
  },
  {
   "cell_type": "code",
   "execution_count": 20,
   "metadata": {
    "execution": {
     "iopub.execute_input": "2021-01-06T17:01:17.218895Z",
     "iopub.status.busy": "2021-01-06T17:01:17.218237Z",
     "iopub.status.idle": "2021-01-06T17:01:17.400191Z",
     "shell.execute_reply": "2021-01-06T17:01:17.399286Z"
    },
    "papermill": {
     "duration": 0.238674,
     "end_time": "2021-01-06T17:01:17.400357",
     "exception": false,
     "start_time": "2021-01-06T17:01:17.161683",
     "status": "completed"
    },
    "tags": []
   },
   "outputs": [
    {
     "name": "stdout",
     "output_type": "stream",
     "text": [
      "Lasso Model to predict Age has a Coeff of determination of 0.4142596594789051\n"
     ]
    }
   ],
   "source": [
    "# Linear Regression (Lasso) with Cross Validation for Age Imputation\n",
    "from sklearn.linear_model import Lasso, LassoCV\n",
    "reg = LassoCV(cv=5, n_alphas = 100, random_state=123, normalize=True).fit(X, y)\n",
    "rsq = reg.score(X, y)\n",
    "print('Lasso Model to predict Age has a Coeff of determination of {}'.format(rsq))"
   ]
  },
  {
   "cell_type": "markdown",
   "metadata": {
    "papermill": {
     "duration": 0.068649,
     "end_time": "2021-01-06T17:01:17.536116",
     "exception": false,
     "start_time": "2021-01-06T17:01:17.467467",
     "status": "completed"
    },
    "tags": []
   },
   "source": [
    "**Random Forest Linear Regression - for Age Imputation**"
   ]
  },
  {
   "cell_type": "code",
   "execution_count": 21,
   "metadata": {
    "execution": {
     "iopub.execute_input": "2021-01-06T17:01:17.675965Z",
     "iopub.status.busy": "2021-01-06T17:01:17.675092Z",
     "iopub.status.idle": "2021-01-06T17:01:17.996151Z",
     "shell.execute_reply": "2021-01-06T17:01:17.995450Z"
    },
    "papermill": {
     "duration": 0.392603,
     "end_time": "2021-01-06T17:01:17.996286",
     "exception": false,
     "start_time": "2021-01-06T17:01:17.603683",
     "status": "completed"
    },
    "tags": []
   },
   "outputs": [
    {
     "name": "stdout",
     "output_type": "stream",
     "text": [
      "Random Forest Model to predict Age has a Coeff of determination of 0.31819659097521624\n"
     ]
    }
   ],
   "source": [
    "# Random Forest Linear Regression for Age Imputation\n",
    "from sklearn.ensemble import RandomForestRegressor\n",
    "rf_reg = RandomForestRegressor(max_depth=2, random_state=123).fit(X, y)\n",
    "rf_rsq = rf_reg.score(X, y)\n",
    "print('Random Forest Model to predict Age has a Coeff of determination of {}'.format(rf_rsq))"
   ]
  },
  {
   "cell_type": "markdown",
   "metadata": {
    "papermill": {
     "duration": 0.067536,
     "end_time": "2021-01-06T17:01:18.131542",
     "exception": false,
     "start_time": "2021-01-06T17:01:18.064006",
     "status": "completed"
    },
    "tags": []
   },
   "source": [
    "**K-Nearest Neighbors Regression - for Age Imputation**"
   ]
  },
  {
   "cell_type": "code",
   "execution_count": 23,
   "metadata": {
    "execution": {
     "iopub.execute_input": "2021-01-06T17:01:18.249146Z",
     "iopub.status.busy": "2021-01-06T17:01:18.246621Z",
     "iopub.status.idle": "2021-01-06T17:01:19.146087Z",
     "shell.execute_reply": "2021-01-06T17:01:19.145472Z"
    },
    "papermill": {
     "duration": 0.955659,
     "end_time": "2021-01-06T17:01:19.146193",
     "exception": false,
     "start_time": "2021-01-06T17:01:18.190534",
     "status": "completed"
    },
    "tags": []
   },
   "outputs": [
    {
     "data": {
      "image/png": "iVBORw0KGgoAAAANSUhEUgAAAlgAAADECAYAAABDXV/NAAAABHNCSVQICAgIfAhkiAAAAAlwSFlz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\nYII=\n",
      "text/plain": [
       "<Figure size 720x216 with 2 Axes>"
      ]
     },
     "metadata": {},
     "output_type": "display_data"
    },
    {
     "data": {
      "image/png": "iVBORw0KGgoAAAANSUhEUgAAAlkAAADbCAYAAABeH4S9AAAABHNCSVQICAgIfAhkiAAAAAlwSFlz\nAAALEgAACxIB0t1+/AAAADl0RVh0U29mdHdhcmUAbWF0cGxvdGxpYiB2ZXJzaW9uIDIuMi4yLCBo\ndHRwOi8vbWF0cGxvdGxpYi5vcmcvhp/UCwAAIABJREFUeJzt3Xl4E+XePvB7sqdJutGytZS9CIUK\nFVxZFOStIosiVkQLogJ6zkFFZJFNhIr4AuIrKr4gB8+PS4UKHMTl1XNUwCOiSLHFVhYFBAsILS1t\nk7TZZn5/pBmoFEohaTrD/bmunmSSSfLNHB3vPM8zzyNIkiSBiIiIiIJKE+4CiIiIiNSIIYuIiIgo\nBBiyiIiIiEKAIYuIiIgoBBiyiIiIiEKAIYuIiIgoBBiyKOgKCwvRo0ePGo99+umnuOGGG/DBBx+g\nU6dO+OCDD2o8v2rVKkyfPh0AsGzZMtx0000oKiqqsc/gwYPx/fffh7Z4Irqq8fxFwcSQRSG3du1a\nLFy4EO+88w5uuukmaDQavPzyyzh06NAFX2O32zFt2jRwGjciCieev+hKMGRRSK1YsQLvvPMO3nvv\nPXTu3BkAYDKZMHbsWDz77LNwu921vm7o0KE4deoU/v73vzdkuUREMp6/6EoxZFHI/Pd//zeWLFmC\nzMxMJCYm1njuiSeeQEREBJYuXVrra41GI5YsWYI333wTBQUFDVEuEZGM5y8KBoYsCgmn04kDBw5g\nxYoVWLJkCX7++ecaz2s0GixatAgbN27E9u3ba32PTp064emnn8bkyZPhdDobomwiIp6/KGgYsigk\nTCYTli9fjn79+mHChAn429/+hjNnztTYp0WLFnjhhRcwbdo0lJaW1vo+mZmZaN26NV588cWGKJuI\niOcvChqGLAoJjUYDvV4PABg/fjw6dOiAyZMnnzcQ9I477kDfvn3xj3/844Lv9dJLL2Hbtm04cuRI\nSGsmIgJ4/qLgYciikBMEAS+//DIOHjyIV1999bznZ82ahZYtW17w9bGxsVi4cCE8Hk8oyyQiOg/P\nX3QlBInXmBIREREFHVuyiIiIiEKAIYuIiIgoBBiyiIiIiEKAIYvq1KlTJwwZMgTDhg3D3XffjfT0\ndNx777346aefwl0aAH99JSUl8vbOnTtxww034KOPPgpjVUQULoWFhejUqRMeeuih856bPn16jXNG\nbm4uMjMzMWTIEAwePBiPPfYYfvnlF3n/c89/5/4VFhYGteaNGzdiwoQJ8rYkSXjxxRcxaNAgHD9+\nPKifRQ1HF+4CSBn+8Y9/IDY2Vt5etWoVsrKysG7dujBWdb6vvvoKs2bNwtKlS3HzzTeHuxwiChOj\n0YjDhw/j2LFjSEhIAOCfZHT37t3yPm63GxMmTMDf//53pKSkAAA+/PBDjBs3Dl9++SW0Wi2A889/\noebz+TBjxgwcOXIE7733HqKjoxvssym42JJF9eb1enHixAlERUUBAA4ePIiRI0di+PDhuOeee/Du\nu+8CACoqKvDUU08hPT0dmZmZmDp1KpYtW1bjvXw+H/r164f8/Hz5saeffhrvvffeBd/3Qj788EO8\n8MILePvttxmwiK5yWq0Wd955Z40W7X/9618YMGCAvF1ZWYmKiooaM7IPHToUs2fPhs/nq9fnffPN\nNxgyZIi8XV5ejl69eqGsrAzvvfcehg4dinvvvRejRo3Cr7/+esH3cbvdePLJJ1FRUYF33nmHAUvh\nGLLokowZMwZDhgxB7969kZ6eDsA/yR7gb9Xq378/Nm7ciBUrVmDXrl0QRRH/8z//A6PRiM8++wxL\nly7Fd999d977arVa3Hvvvdi4cSMAoKysDDt27MCQIUMu+L61effddzF9+nTcdddd6NKlS4iOAhEp\nyd13340PP/xQ3t60aRPuueceeTsqKgpTpkzBY489hgEDBmDKlCnYsGEDbr75ZhgMBnm/MWPG1Ogq\n/Otf/3reZ91yyy1wOBzyMIqPP/4Y/fr1g9VqxYIFC/D2229jw4YNyMjIQE5OTq31Op1OjBs3Dl99\n9RWeeuopmEymYB0KChN2F9IlCTSXFxQUYPz48bjhhhvQpEkTAMDAgQMxbdo07NmzBzfddBNmzZoF\njUaD7777DjNnzoQgCIiLi5PD2Z/de++9GDFiBKZPn46PP/4Y/fv3h81mu+D71mbLli1Ys2YNJkyY\ngBtuuAH9+vUL2bEgImXo2rUrtFot8vPz0aRJEzgcDiQnJ9fYZ+zYsbjvvvvwww8/4IcffsDKlSux\ncuVKrF+/HjabDcCldRcKgoB7770X//znP9GtWzds3LgRU6dOhVarxR133IGRI0fi1ltvRe/evS94\nftq5cyf+8pe/4KabbsJTTz2F9evXw2q1BudgUFiwJYvqJSUlBc899xymT58uD/y87bbb8Pnnn+PO\nO+/E3r17MWTIEPzxxx8wGo01lqEILFPxZwkJCejSpQu2bt2KjRs3YsSIERd939osX74cPXv2xAsv\nvIApU6bg6NGjQf7mRKREQ4cOxebNm/Hhhx9i2LBhNZ7LycnB22+/DavVittuuw1Tp07FJ598AkEQ\nLrjw88WMGDECn332Gfbu3YuKigpcf/31AIDFixfjrbfeQlJSElasWIFnnnmm1tfffPPNeOqppzBh\nwgQkJiZi6tSp5y3lQ8rCkEX1NnjwYKSmpsrdhZMnT8ann36Ku+66C88//zysViuOHj2KW2+9FdnZ\n2fD5fKioqMCXX355wffMyMjAypUrUVlZieuuu+6i71ubQIAbPHgw7rzzTvztb39DZWVlkL85ESnN\nsGHD8Nlnn+HTTz/F4MGDazwXGxuL5cuXY9euXfJjRUVFsNvt57V4XYpmzZohNTUVc+bMkX8slpSU\noF+/foiOjsbDDz+Mp59++oJXZge6KAVBwKJFi1BQUIDly5fXuw5qPNhdSJdl9uzZGDp0KP7zn//g\nL3/5C2bOnIl169ZBq9Xi9ttvR69evXDttddiwYIFGDp0KCIjIxEfH3/B9+vfvz9eeOEFjBs3Tn7s\nQu9bl5kzZ2LkyJGYNWsWlixZEpTvS0TK1KxZM7Rv3x42m+28QeRt27bFG2+8gaVLl8qt7zabDQsW\nLEC7du3k/caMGXPeUIVnnnmm1m6/++67D0899ZQcjmJjY/HEE0/g4YcfhslkglarRVZWVp11x8TE\nYOnSpRgzZgy6du2Kvn37Xs7XpzDj2oXUYObNm4eYmBhMnDgx3KUQERGFHLsLiYiIiEKALVlERERE\nIcCWLCIiIqIQYMgiIiIiCgGGLCIiIqIQaDRTOBQVVcj3Y2IiUFrqvMje4ccag0MJNQLKqFNpNcbH\n28JcTfDw/BUaSqiTNQaHEmu8lHNYo2zJ0um04S6hTqwxOJRQI6CMOllj46CE76iEGgFl1Mkag0Ot\nNTbKkEVERESkdAxZRERERCHAkEVEREQUAgxZRERERCHQaK4upMbF6xNR7nCjwumBvcoDR6UH9koP\n7M7q2yr/rUYQYDHpYDHpEWHSwWLWw2rSw2LWIcKkR2SEHrGRJui0zPNERWcq8c//HML9t3VAlNUY\n7nKIKMQYshpQpcuLvIPF+GHvKew/egYxNiNaNIlAyzgLWjSxoGWcBc1jzdBfwVUWkiSh0uVFmcON\nEqcHxacdEEUJPvlPlLc9XhHlTjfK7G6UO9woC/zZXXBUeYP2vQUA0TYj4qJMiIsyoUmUWb7fXgLs\n5VXQ6TTQaQXotP5brYahjNRn39FSfFdwEiltYnFLtxbhLoeIQowhK8Rcbp8crPYcOg2PVwQAxEWZ\ncLq8CseKHcD+Inl/QQDio81o2cQCi0kHbXXg0GoF6KpvtRoBWq0Gbo8PZQ5/QCp3uFHudKPc4YHX\nJ152vRaTDlFWI5Ka2RBpMcBm1sNq1vtbqMx6WCP8LVXW6m1RkuCs8sJR3drlCNyv8sJR6UGZw43T\nZVUoLqvCr8fK8Eth2SXVIQiAXquBTquB1ayHzaJHZITBX1OEAVEWA2wRekRZDNBqNPCJIrw+6Zxb\nCT6f/74gAAa9Fgadxn+r18CgO3ur12kgSRIkCZCAs/clCWL10p56kwEutw8GvQaCIFz28aWrW4RR\nDwBwVHrCXAkRNQSGrBBweXz46eBp7Nx3Cnt+LYa7Oli1aBKBXtc0Ra/OzZAQZ4EkSThjd+N4sQPH\nTztwotiB46edOF7sQO6vxfX6TJ1WgyiLHq2aWhAZYYDNYkB8rAVul8cfyqqDmUYQqgObfzsywoAo\nayC0GKDX1b8FyWzUoUmUqc79vD4RZypcKK4OXcVllaj0iLA7XPD4/KHI4xPh9YrwihK8Xv+2vdKD\n4uNVcuAJN6NeC6NeA6NBW31fC0EjABIg+f+nOqwBgD+wCX867oH/T3Raf3DWCAJEUYK3OhzWbH30\nhz1t4D0Cr5db/fyP2SxGeDze6tbAc1sGNdDrzn6mprZbwf9++uogatRpoJeDqYYti0FiNftPufYg\nthQTUePFkBUkVW4v9hw8jV37i7DnYDHcHn+wahYbgeuvaYpenZsiIc5SoxVEEATE2IyIsRmR0ja2\nxvvZKz2ocnnhEyV4faL8H1uvT4TPJ8ErijDotIi0GBAZYYDZqD2vhSU+3lZjJupw02k1iIs2Iy7a\nLD92qTUGWsz848T83ZoVTn9LmShKNcJGIIAEWv0gAW6vCLfXB7dHhNvjv3V5fXB7fHJrlwD//yeC\nAGiqb/2PAhqtBuV2F1weH1xun//W44Oj0v+YKEkQEHgN5NcG3leUAJ8o4nJzokYQwhoytRoBBr2m\n+rjUPEaC4A+JOp0Go27viG7tmoStzsbOYq5uyapiSxbR1YAh6woExljl7CvCT4dOyy1WzWLM6HlN\nU/S6pilaNbVeVvdSoDuO/DSCcM4xsTT45wcrsIqS5A/J5wTnQMuVVquRW5fOtj4KcrCRpMD+/pB9\n7vt4fSIioyJwqqgC3lpaAwPh3CdJkAKtY6J/W5QDvARPIIieG0irA6rHI0I8pxs1cF+SJIgiIFaP\n96MLs5jYXUh0NWHIqsWRPypw6kylPKbn/HE+Io6XVCJn3yl5/FOLJhHo2akpel7TFInxFo7boVpp\nBAEanXBZ3bKCIFR3AQJGnH9xRHy8DRYd/7lrzCwm/yk3mBeWEFHjxZB1Dq9PxMZth/DZzqOXtH9C\nvEUOVglxDd+6QkT1k5eXh8WLF2PNmjUoKCjA888/D4PBgM6dO2PmzJnQaDR4/fXXsXXrVuh0OsyY\nMQOpqalB+/zABRh2tmQRXRUYsqqVlFfhrQ8L8OuxMjSPjUD/tAToqgcLBwYP++/7r/br2LYJDGDX\nCJFSrFy5Eps3b4bZ7B8TOHv2bMyaNQtpaWlYunQpPvroI3To0AE7d+7EBx98gBMnTmDixInYsGFD\nUOuwmPXsLiS6SjBkAcg/dBorPvoZ9koPru/cFGPuuAZm48UPTXy8tVENKieii0tKSsKyZcswdepU\nAMDJkyeRlpYGAEhLS8OXX36JsrIy9O7dG4IgoGXLlvD5fCgpKUFsbOzF3rpeLCY9TpdXBe39iKjx\nuqpDlihK2PTNYXzy7W/QagVk/lcybu2RwPFURCqUnp6OwsJCebtVq1bYuXMnrr/+emzZsgWVlZWw\n2+2Ijo6W97FYLKioqKgzZMXEREB3ziTC8fG2C+8baUJhkR2xsRZow7gSwsVqbEyUUCdrDA411njV\nhqwyuwv/u7kA+46eQVyUCX+5pyvaNI8Md1lE1EAWLFiAF198EW+//Ta6desGg8EAq9UKh8Mh7+Nw\nOGCz1X1SLS11yvfruhLVoPX/iPutsBSREYYr+AaXr7FN73IhSqiTNQaHEmu8lMB1Vc4wuPdIKZ5f\n/QP2HT2DHh3jMHdsLwYsoqvMtm3bsGDBAqxYsQJnzpzBLbfcgrS0NHzzzTcQRRHHjx+HKIpB7SoE\nAEv1hKQcl0WkflddS9bBY2VYvPZHaAQBI/t3wMBerdg9SHQVat26NcaPHw+z2YwbbrgB/fr1AwD0\n7NkT999/P0RRxJw5c4L+ufJcWZzGgUj16gxZoihi7ty52L9/PwwGA7KystC6dWv5+W3btuGNN94A\nAHTp0gXPP/88AKBv375o06YNAKB79+6YPHlyCMqvv3/v+h2SBPz13m7o3iEu3OUQUQNKTExEdnY2\nAKB///7o37//eftMnDgREydODFkNgUmG2ZJFpH51hqwvvvgCbrcb69atQ25uLhYuXIjly5cDAOx2\nOxYtWoT/9//+H2JjY7Fy5UqUlpaioqICKSkpeOutt0L+BeqjzOFGzv4iJMRZcG17Lv1BRA2PS+sQ\nXT3qHJOVk5ODPn36APC3SOXn58vP/fjjj0hOTsbLL7+MUaNGIS4uDrGxsSgoKMDJkyeRmZmJcePG\n4dChQ6H7BvXwzZ7j8IkSryAkorAJzPpur2R3IZHa1dmSZbfbYbVa5W2tVguv1wudTofS0lJ8//33\n2LRpEyIiIvDggw+ie/fuiI+Px/jx43HnnXdi165dmDJlSp0T+tXnEujLIYoS/vPTHzAatBjSr4P8\na/JKqPFy03BQQo2AMupkjY0f1y8kunrUGbL+fEmzKIrQ6fwvi46ORrdu3RAfHw/AP2B07969uO22\n26DVauXHTp48CUmSLtp6VJ9LoC/HnoOncarEiT6pLeC0V8Fpv7LJAJV4uWljpIQaAWXUqbQar9aw\nZWV3IdFVo87uwrS0NHz99dcAgNzcXCQnJ8vPde3aFQcOHEBJSQm8Xi/y8vLQoUMHvP766/jHP/4B\nANi3bx9atmwZ9u65rT8eAwDclpYQ1jqI6Op2dkwWuwuJ1K7OlqyBAwdi+/btGDlyJCRJwoIFC7B6\n9WokJSVhwIABmDx5Mh577DEAwB133IHk5GSMHz8eU6ZMwbZt26DVavHSSy+F/ItcTEl5FfIOFqNN\ncxvnwyKisAqMyWJ3IZH61RmyNBoN5s2bV+Ox9u3by/fvuusu3HXXXTWej4qKwooVK4JU4pX7Ou84\nJAm4tQdbsYgovAx6LfQ6DewMWUSqp/oZ370+EdvyjsNs1OKGzs3CXQ4RESwmHcdkEV0FVB+y8n49\njTK7GzentIDRoK37BUREIWY16+HgFA5Eqqf6kLU11z/gvV+PlmGuhIjIz2LSw+nyQhSlcJdCRCGk\n6pB1qtSJgsMl6JgYhcR4a90vICJqAIErDJ0utmYRqZmqQ9bW3OMAOOCdiBqXs7O+c1wWkZqpNmR5\nvCK+2XMCVrMePTvFh7scIiKZhYtEE10VVBuycvafgr3Sg97dWkCv44B3Imo8OOs70dVBtSErMMM7\nB7wTUWNzdkJSjskiUjNVhqxjRXYcKCxDSpsYNIuJCHc5RNRI5OXlITMzEwCwd+9eZGRk4IEHHsBz\nzz0HURQBANnZ2Rg+fDgyMjKwZcuWkNQRWCTazpYsIlVTZcjigHci+rOVK1di1qxZcLlcAIDXX38d\nf/3rX/H+++/D7XZj69atKCoqwpo1a7B27VqsWrUKr7zyCtxud9Br4ZgsoquD6kKWy+3Dt/l/IMpq\nwLUd4sJdDhE1EklJSVi2bJm83blzZ5w5cwaSJMHhcECn02HPnj3o0aMHDAYDbDYbkpKSsG/fvqDX\nwu5CoqtDnWsXKs3OfSdR6fLi9uvaQKdVXYYkosuUnp6OwsJCebtNmzaYN28eli9fDpvNhhtuuAGf\nffYZbDabvI/FYoHdbq/zvWNiIqA75wKb+HjbRfYGBL3/1OuV6t43VML1ufWlhDpZY3CosUbVhayj\nf/hPiD2S2YpFRBf24osv4t1330XHjh3x7rvvYuHChejduzccDoe8j8PhqBG6LqS01Cnfj4+3oaio\n4qL7uzw+AMDpMmed+4bCpdTYGCihTtYYHEqs8VICl+qaegKXREdGGMJcCRE1ZlFRUbBa/StBNG3a\nFOXl5UhNTUVOTg5cLhcqKipw8OBBJCcnB/2zDToNdFoNx2QRqZzqWrICMygHrt4hIqpNVlYWJk2a\nBJ1OB71ej/nz5yM+Ph6ZmZkYNWoUJEnCpEmTYDQag/7ZgiDAYtZxTBaRyqkuZDmqPNBpNTDoVddI\nR0RXKDExEdnZ2QCAnj17Yu3ateftk5GRgYyMjJDXYjXrcabCFfLPIaLwUV0ScVR6YTHrIAhCuEsh\nIrogi0kPZ5UXoiiFuxQiChH1hawqD6zsKiSiRs5i0kEC4HSxy5BIrVQVskRRgrPKK0/0R0TUWHFC\nUiL1U1XIcrq8kHB2oj8iosbKyqV1iFRPVSEr8IuQLVlE1NhZzJz1nUjt6mzyEUURc+fOxf79+2Ew\nGJCVlYXWrVvLz2/btg1vvPEGAKBLly54/vnn4XK5MGXKFJw+fRoWiwUvv/wyYmNjQ/ctqgV+EXJM\nFhE1dnJ3IVuyiFSrzpasL774Am63G+vWrcPkyZOxcOFC+Tm73Y5FixbhrbfeQnZ2NhISElBaWor3\n338fycnJeO+993D33XfjzTffDOmXCDjbksXuQiJq3AI/Bjkmi0i96gxZOTk56NOnDwCge/fuyM/P\nl5/78ccfkZycjJdffhmjRo1CXFwcYmNja7ymb9++2LFjR4jKrynQ7M7uQiJq7AJjR+0MWUSqVWeT\nj91ul5eeAACtVguv1wudTofS0lJ8//332LRpEyIiIvDggw+ie/fusNvt8npfFosFFRUNsx4RuwuJ\nSCnOdhdyTBaRWtUZsqxWa40FU0VRhE7nf1l0dDS6deuG+Ph4AP4ZlPfu3VvjNQ6HA5GRkXUWUt9V\n7GsjCf6GuYQWkQ2ymrcaVwwPByXUCCijTtaoHFaOySJSvTpDVlpaGrZs2YJBgwYhNze3xmKpXbt2\nxYEDB1BSUoLIyEjk5eUhIyMDaWlp2LZtG1JTU/H111/juuuuq7OQ+q5iX5ui0/5g56nyhHw1byWu\nGN4YKaFGQBl1Kq3Gqz1sWeQxWWzJIlKrOkPWwIEDsX37dowcORKSJGHBggVYvXo1kpKSMGDAAEye\nPBmPPfYYAOCOO+5AcnIyWrVqhWnTpuGBBx6AXq/HkiVLQv5FgLO/CK0ck0VEjZxBr4FOK7Ali0jF\n6gxZGo0G8+bNq/FY+/bt5ft33XUX7rrrrhrPm81mvPbaa0Eq8dIFxmRZOCaLiBo5QRBgMek58J1I\nxVQ3GalOq4FBr6qvRUQqZTHrOYUDkYqpKo04Kr2wmHUQBCHcpRAR1clq0sFZ5YUoSeEuhYhCQFWz\ndjqqPIi2GsNdBhE1Unl5eVi8eDHWrFmDSZMmobi4GABw7NgxXHvttVi6dClef/11bN26FTqdDjNm\nzEBqamrI6rGY9ZAAVLq8HOZApEKqCVmiKMFZ5UVCnCXcpRBRI7Ry5Ups3rwZZrMZALB06VIAQFlZ\nGUaPHo3nnnsOBQUF2LlzJz744AOcOHECEydOxIYNG0JWUyBY2Ss9DFlEKqSa7kKnywsJnO2diGqX\nlJSEZcuWnff4smXL8NBDD6Fp06bIyclB7969IQgCWrZsCZ/Ph5KSkpDVxEWiidRNNS1ZZ9ctZMgi\novOlp6ejsLCwxmOnT5/Gjh078NxzzwHwr3ARHR0tPx9YsaKuBe4vdzLlZnH+1TR0Rl2DzxumlHnK\nlFAnawwONdaompDFJXWIqL4+++wzDB48GFqtPyD9eYULh8MhLxF2MZc9mbJPBAAc/6McSU0i6lH5\nlVHCxLWAMupkjcGhxBovJXCpprvwbEuWanIjEYXYjh070LdvX3k7LS0N33zzDURRxPHjxyGKYp2t\nWFeC6xcSqZtqEklgTAO7C4noUh0+fBitWrWSt7t27YqePXvi/vvvhyiKmDNnTkg/32Lyn4I5ISmR\nOqkmZLG7kIjqkpiYiOzsbHn7k08+OW+fiRMnYuLEiQ1Sz9n1CxmyiNRIfd2FJtXkRiJSOavcXciQ\nRaRGKgpZ7C4kImWRp3DgmCwiVVJPyAp0FzJkEZFCGPVaaDUCuwuJVEo1ISswJouzJhORUgiCAItZ\nz4HvRCqlmpDlqPRAp9XAoFfNVyKiq4DFpGN3IZFKqSaROCq9sJh1EAQh3KUQEV0yq1kPR5UHoiSF\nuxQiCjL1hKwqD6dvICLFsZj0kCSgysXWLCK1UUXIEkUJziovp28gIsUJXGFoZ5chkeqoImQ5XV5I\n4PQNRKQ8nJCUSL1UEbLOrlvIkEVEyiJPSMqQRaQ6qghZXFKHiJQq8OPQzlnfiVRHFSHrbEsWx2QR\nkbIExpIGVq0gIvWoM5WIooi5c+di//79MBgMyMrKQuvWreXns7KysHv3blgsFgDAm2++CZ/Ph/T0\ndCQnJwMAbr/9dowZMyZEX4FL6hCRclm4fiGRatUZsr744gu43W6sW7cOubm5WLhwIZYvXy4/X1BQ\ngLfffhuxsbHyY99++y0GDx6M2bNnh6bqP2F3IREpVeC8xVnfidSnzu7CnJwc9OnTBwDQvXt35Ofn\ny8+JoogjR45gzpw5GDlyJNavXw8AyM/PR0FBAR566CE8+eSTOHXqVIjK95O7CzmFAxFdRF5eHjIz\nMwEAp0+fxhNPPIEHH3wQI0eOxNGjRwEA2dnZGD58ODIyMrBly5aQ1yQvEs3uQiLVqTOV2O12WK1W\neVur1cLr9UKn08HpdOKhhx7C2LFj4fP5MHr0aHTt2hXt2rVD165dcfPNN2Pz5s3IysrCa6+9dtHP\niYmJgE6nlbfj422X/CVE+Gd5b5UQXa/XXamG/KzLxRqDRwl1ssYLW7lyJTZv3gyz2QwAWLRoEYYM\nGYJBgwbhu+++w6FDh2A2m7FmzRps2LABLpcLo0aNwi233AKDwRCyuuQpHNhdSKQ6dYYsq9UKh8Mh\nb4uiCJ3O/zKz2YzRo0fLJ60bb7wR+/btw+233y4/NnDgwDoDFgCUljrl+/HxNhQVVVzylyiufq27\n0l2v112J+tYYDqwxeJRQp9JqbOiwlZSUhGXLlmHq1KkAgN27d6NTp054+OGHkZCQgJkzZ2LHjh3o\n0aMHDAYDDAYDkpKSsG/fPqSmpoasLpNBC61GYMgiUqE6uwvT0tLw9ddfAwByc3PlwewA8Ntvv2HU\nqFHw+XzweDzYvXs3UlJSMGvWLHz++ecAgB07diAlJSVE5fsFxmRZOCaLiC4gPT1d/oEIAMeOHUNk\nZCTeeecdtGjRAitXroTdboclUsbzAAAcC0lEQVTNdjb8WSwW2O32kNYlCAIsJh3s7C4kUp06W7IG\nDhyI7du3Y+TIkZAkCQsWLMDq1auRlJSEAQMGYMiQIcjIyIBer8ewYcPQsWNHTJ48GTNmzMD7778P\ns9mMrKyskH4JR6UXOq0GBr0qZqQgogYQHR2N/v37AwD69++PpUuXomvXrjVa7h0OR43QdSFXMtwB\nACKtRpQ73BzuUAsl1Mkag0ONNdYZsjQaDebNm1fjsfbt28v3x40bh3HjxtV4vlWrVlizZk29CrkS\njkoPLGYdBEFosM8kImW77rrrsG3bNtx999344Ycf0KFDB6SmpuLVV1+Fy+WC2+3GwYMHa7TeX8iV\nDHcA/F2Gx4rcOHmqHJoGOI8poWsZUEadrDE4lFjjpQQuVVyO56jyINpqDHcZRKQg06ZNw6xZs7B2\n7VpYrVYsWbIEUVFRyMzMxKhRoyBJEiZNmgSjMfTnFqtJD0kCqlw+RPAqaSLVUPy/zaIowVnlRUKc\nJdylEFEjl5iYiOzsbABAQkICVq9efd4+GRkZyMjIaNC65FnfqzwMWUQqovhBTE6XFxI42zsRKZe8\nfiEnJCVSFcWHrLPrFjJkEZEynduSRUTqofiQxSV1iEjprIH1CzmNA5GqKD5knV0cmuMYiEiZuEg0\nkTqpIGSxu5CIlE1eWodjsohURfEhi92FRKR0gZZ4zvpOpC6KD1lySxYveyYihbJykWgiVVJByAqM\nyWJLFhEpkzwmi92FRKqi/JAV6C5kyCIihTIZtNAIAhxV7C4kUhPFh6zAmCwLx2QRkUIJggCLWcfu\nQiKVUXzIclR6odMKMOgV/1WI6CpmMek54zuRyig+mTgqPbCY9RAaYOV6IqJQsZr1cFR6IUlSuEsh\noiBRfsiq8nD6BiJSPItJB1GSUOX2hbsUIgoSRYcsUZTgrPJy+gYiUjxeYUikPooOWU6XFxI4fQMR\nKV/g4h07B78TqYaiQxaX1CGi+sjLy0NmZiYAoKCgAH369EFmZiYyMzPx6aefAgBef/11jBgxAiNH\njsSePXsarLbArO9cJJpIPRTdz8YldYjoUq1cuRKbN2+G2WwGAPz8888YO3YsHnnkEXmfgoIC7Ny5\nEx988AFOnDiBiRMnYsOGDQ1Sn5WLRBOpjsJbsgKzvSs6KxJRA0hKSsKyZcvk7fz8fGzduhUPPvgg\nZsyYAbvdjpycHPTu3RuCIKBly5bw+XwoKSlpkPq4SDSR+ig8ZLG7kIguTXp6OnS6sz/IUlNTMXXq\nVLz77rto1aoV3njjDdjtdlitVnkfi8WCioqKBqlPXiSas74TqUadTUCiKGLu3LnYv38/DAYDsrKy\n0Lp1a/n5rKws7N69GxaLBQDw5ptvwuPx4Nlnn0VVVRWaNm2Kl156SW6iDyZ2FxLR5Ro4cCAiIyPl\n+/Pnz8eAAQPgcDjkfRwOB2w2W53vFRMTAZ1OK2/Hx9f9mj9LrA5XIoTLen19NcRnBIMS6mSNwaHG\nGusMWV988QXcbjfWrVuH3NxcLFy4EMuXL5efLygowNtvv43Y2Fj5saysLAwePBjDhw/HihUrsG7d\nOjz88MP1KuxSyC1ZnMKBiOrp0UcfxezZs5GamoodO3YgJSUFaWlpWLRoER599FH88ccfEEWxxrnt\nQkpLnfL9+Hgbiorq3/rlrv7RWFziuKzX18fl1tjQlFAnawwOJdZ4KYGrznSSk5ODPn36AAC6d++O\n/Px8+TlRFHHkyBHMmTMHxcXFGDFiBEaMGIGcnBxMmDABANC3b1+88soroQlZVYExWWzJIqL6mTt3\nLubPnw+9Xo+4uDjMnz8fVqsVPXv2xP333w9RFDFnzpwGqyfQIs9FoonUo86Q9ecxClqtFl6vFzqd\nDk6nEw899BDGjh0Ln8+H0aNHo2vXrrDb7XITeyjHNARasqwMWUR0CRITE5GdnQ0ASElJwdq1a8/b\nZ+LEiZg4cWJDlwazUQuNIHCeLCIVqTNkWa3WGmMURFGUB4+azWaMHj1aHm914403Yt++ffJrTCYT\nHA6HPO7hYi5nTINb9K/x1ToxBiZjw3cZqrH/OByUUCOgjDpZo3IJgoAIk45XFxKpSJ3JJC0tDVu2\nbMGgQYOQm5uL5ORk+bnffvsNkyZNwj//+U+Ioojdu3fjnnvuQVpaGrZt24bhw4fj66+/xnXXXVdn\nIZczpqG0rAo6rYDyMicqGniBaCX2HzdGSqgRUEadSquRYet8FrOeIYtIReoMWQMHDsT27dsxcuRI\nSJKEBQsWYPXq1UhKSsKAAQMwZMgQZGRkQK/XY9iwYejYsSOeeOIJTJs2DdnZ2YiJicGSJUtCUryj\nygOLWQ+hgQMWEVEoWM06FJ+phCRJPK8RqUCdIUuj0WDevHk1Hmvfvr18f9y4cRg3blyN5+Pi4rBq\n1aoglXhhjkoPoq3GkH8OEVFDsJj08IkSqtw+mMMwBIKIgkuxk5GKogRnlZfTNxCRasizvnPwO5Eq\nKDZkOV1eSOD0DUSkHlwkmkhdFBuyuKQOEalNYK4sTuNApA6KDVlcUoeI1Cbwo5FXGBKpg2JDVqA5\nPdC8TkSkdHJ3IWd9J1IF5YasKnYXEpG6yEvrsCWLSBUUG7LslewuJCJ1CfxorHAyZBGpgWJDljzw\nnVM4EJFKNI+NgFYj4MDvZ8JdChEFgXJDVlVgTBZbsohIHcxGHTq3jsGRkxUoKa8KdzlEdIWUG7IC\n3YUMWUSkIt07xgEAfvylOMyVENGVUmzICkzhYOGYLCJSke4d/CEr91eGLCKlU2zIclR6odMKMOgV\n+xWIqIHl5eUhMzOzxmMfffQR7r//fnk7Ozsbw4cPR0ZGBrZs2dLQJSI20oTWzWzYd6QUTk7lQKRo\nih017qjywGLWc6V6IrokK1euxObNm2E2m+XH9u7di/Xr10OSJABAUVER1qxZgw0bNsDlcmHUqFG4\n5ZZbYDAYGrTWHh3jcORkBfIPn8b1nZs16GcTUfAothnIUenh9A1EdMmSkpKwbNkyebu0tBSLFy/G\njBkz5Mf27NmDHj16wGAwwGazISkpCfv27WvwWgPjsnI5LotI0RQZskRRgrPKy+kbiOiSpaenQ6fz\nnzN8Ph9mzpyJGTNmwGKxyPvY7XbYbDZ522KxwG63N3itrZpa0STSiD0HT8PrExv884koOBSZUpwu\nLyRw+gYiujwFBQU4cuQI5s6dC5fLhV9//RUvvvgibrzxRjgcDnk/h8NRI3RdSExMBHQ6rbwdH1/3\na+pyU7eW+Hj7YZyqcOPajvFX/H5/FowaG4IS6mSNwaHGGhUZsrikDhFdidTUVHzyyScAgMLCQjzz\nzDOYOXMmioqK8Oqrr8LlcsHtduPgwYNITk6u8/1KS53y/fh4G4qKKq64xk6tovAxgK27jqJltOmK\n3+9cwaox1JRQJ2sMDiXWeCmBS5Ehi0vqEFEoxMfHIzMzE6NGjYIkSZg0aRKMRmNYaunUKhpmoxa5\nvxTjgQEdeZEPkQIpMmQ5KgOzvSuyfCIKk8TERGRnZ1/0sYyMDGRkZDR0aefRaTXo1q4Jdu49hWNF\nDiQ2tYa7JCKqJ0UOfGd3IRFdDc7O/l4U5kqI6HIoMmSxu5CIrgap7ZpAqxE4+zuRQikyZAXWLeQU\nDkSkZhEmPZJbRePwiQqUVrjCXQ4R1VOdIUsURcyZMwf3338/MjMzceTIkVr3eeyxx/D+++8DACRJ\nQp8+fZCZmYnMzEwsWbIkqEU7qgJjstiSRUTqFugyzGNrFpHi1NkU9MUXX8DtdmPdunXIzc3FwoUL\nsXz58hr7vPrqqygrK5O3jx49ipSUFLz11lvBrxhnx2RZGbKISOV6dIjD+1/8gh9/KcatPRLCXQ4R\n1UOdLVk5OTno06cPAKB79+7Iz8+v8fxnn30GQRDQt29f+bGCggKcPHkSmZmZGDduHA4dOhTUou1y\ndyFDFhGpW1y0GYnxVuw9UoIqNxeMJlKSOluy7HY7rNazlw5rtVp4vV7odDocOHAAH3/8MV577TW8\n8cYb8j7x8fEYP3487rzzTuzatQtTpkzBhg0bLvo59Zkx2e0VodNqkNAyKqxzx6hxdtpwUEKNgDLq\nZI3q1KNjHD761o78QyXoeU3TcJdDRJeozpBltVprLDMhiqK8/temTZtw8uRJjBkzBseOHYNer0dC\nQgJ69eoFrdYfmHr27ImTJ09CkqSLBqL6zJh8psIFi1mH4uKGX1MsQImz0zZGSqgRUEadSquRYevS\nde8Yh4++/Q25vxYzZBEpSJ0hKy0tDVu2bMGgQYOQm5tbY4mJqVOnyveXLVuGuLg49O3bF4sWLUJ0\ndDTGjRuHffv2oWXLlkFtcXJUehBtDc8szEREDa1NcxuirQbk/VoMnyhCq1HkheFEV506Q9bAgQOx\nfft2jBw5EpIkYcGCBVi9ejWSkpIwYMCAWl8zfvx4TJkyBdu2bYNWq8VLL70UtIJFUYKzyouEOEvQ\n3pOIqDETBAHdO8Zj64/H8GthGTolxYS7JKJGTZIkVLl9qKj0wFHpgb3SgwqnG+WO6lunGxXOmo91\naROLJ0ekBrWOOkOWRqPBvHnzajzWvn378/abOHGifD8qKgorVqwIQnnnc7q8kMDpG4jo6tKjYxy2\n/ngMP/5SzJBFqieKEpwuLxxVHjgqvXBWeVDl9qHS7UWV24cqtw8utw9V52zbqwNVIFj5RKnOz9Hr\nNIiM0KNlnAXtEyKD/j0UN5snl9QhoqvRNUkxMBr8C0bf37/DZQ/BkCQJ5Q53kKsjJRElCWcqXCgu\nq0LRmUo4q7zQ6TTQaQXodRrotRrodRroqm8FCKiodKPcEfjzoNxZfb+6RUiv0yDCqIPZqIPJqJXv\nm406mA1aCIIAj1eE1yfC4xPh9Unweqvve0VIgoDS8ko4Kv3Bylnlb1CpL4tJB6tZj/goE6xmPaxm\nPSzVt5EWA2wRekRGGGCzGGAz62Gqri1UFBeyuKQOEV2N9DoNurWNxa79RTh+2nlZQya8PhGrP92L\nHQUnMSAtERn920N/zlXdpDwuj78Vx+2p/vOKNW89Irz4A4ePlaH4TCWKyqpwuqwSXt/lRJjzBYKM\n1yfijN2FE6edEKXLe2+DToMIkw7RNiMS4q2wmHSwmPWwmHSIMPkDkcmghdmgq77vvzVWP24x6aHR\nhG/GgdooLmQ5KgOzvSuudCKiK9K9Yxx27S9C7i9F9Q5ZLrcPb27Kx0+HTkOn1eDL3YXY//sZPD4s\nBS05xrVBiZKEkyVOHDxWjuKySui0muo/AbrqlqTAYxoBqKj0oMzuQpnDLf+VV9+63L56fbbVrEer\nplbERZkRF21CfJQZtgg9vD4JnnNals69FUUJ1uoWoCiLobpFyN8qpNPWvAhDkiS4PSKcLi8qz/kD\nILeM6bQa//eUv6uAhJbRKD/jrK1kRVNcUmF3IRFdrVLbx0EjCPhiVyHaNI9EStvYS3qdvdKD/1mf\nh4PHytG1XSymj7keb2/6CVt/PIZ57/yAUQOT0Se1RVjnHVQze6UHh46X4dDxchw8Xo7Dx8vhdF3+\nxLKCAERaDGgWY0ZkhAFmow4GnQYGvRYGvQYG3dlbvV6DxOZRMGqAuCgTzMbQ/mdfEAQYq1uXYmyX\nPguAUa/OFlXlhSx2FxLRZcrLy8PixYuxZs0a/Prrr5g9ezYkScI111yD2bNnQ6vVIjs7G2vXroVO\np8MTTzyB2267Ldxly6xmPe67rT0+2HIQS9blol/3lsi4rcNF/8NZUl6FV7LzcLzYgRtTmuGRQZ0R\nZTVidHonpLSJwepP9+Gd/9uH/MMlePiOTogI8rlVkiRUurwoKXfhdHkVSipcKCmvgtPlRazN6G9R\niTIhLtqMyAi94oKezyeitMKFMocLZXZ/69KZQKuT3Y3CIjtOlVbWeE3TGDOu7dAE7VpGoXmTCEii\nBI9PhM8nyS1I/rFLEkRRgi1CjyirAVEWI6IsBljN9esWU8IcemqluJB1dkkdxZVORGG0cuVKbN68\nGWazGQDwyiuv4JlnnkGvXr0wffp0fPXVV+jevTvWrFmDDRs2wOVyYdSoUbjllltgMBjCXP1Z6dcn\noVNSNFZ9shfbco8j/9BpPDyoM1LanN+qdeK0A6+sy8Xpchdu75mIkQM6QnNOiLmuU1O0aR6JFR8V\nYNe+Uzh8vBwThqagQ2LUZdXmqPLgl9/LcOD3MygssqOkwh+sLrVLy6DToEmUCXFRZjSJMsFmNcLp\ndCMwAlqqvhMY8dMk0oQ2zW1o09wW9HBYG0mScLK0EvuPlmL/0TP4pfAMSipcuNgQpAijDl3bxqJd\ny0i0axmFdi0jue7uVURxScVRFRiTxX9IiejSJSUlYdmyZfIkysuWLYNWq4Xb7UZRURGaNGmCPXv2\noEePHjAYDDAYDEhKSsK+ffuQmhrcuXOuVJvmkZgzphc++vY3fLrjCJaszcWtPRJw363t5VatwyfK\nsTQ7D/ZKD+7t1w6DbmxdaytRkygTpo7qgY+2/4aPvv0NC9/djaG92+DmlOaIMOlgMupqBLNzldld\nOFBYhgNHz2D/72dwrMhe44qwCKMO8VFmxEYaERtpQpNII2JtJsRGGmE26lBafYVbcVklis9UyfdP\nnK7/2JxmMWa0bRHpD10tItG6mQ1Gw5V1QUmShBOnndj/+xk5WJWdc2WmLUKPLm2bIMKgrW5pMiDa\nakSU1YBoi//WalZe6xwFjwJDVnV3IUMWEdVDeno6CgsL5W2tVotjx45h7NixsFqtaNu2LX7//XfY\nbGeX+7FYLLDbw7d818XodRoM79sOaclxWPXJXmz98Rh+OngaYwddAwnA6xt/gtvjw8N3XoO+17a8\n6HtpNRrc3acdOreOwYqPfsam/xzGpv8clp83n3NJfoTRH7xOllbiZMnZMKTXadApKRrJraLRqVU0\n2rSIrHP8T1Kz2pdWclZ5UVpRhajoCJSUOCAIAuSYErgjAX+UOHH4j3L8dqICv/1Rge9+Ponvfj7p\n300AmsdGICHeisQ4CxLiLWgZZ0HTGHOtM+ZXurw4XuzAsWIHjhU5cKzYjt9P2VHh9Mj7RFkMuL5z\nU3RqFY3kpBi0bBKBpk0j2RVHF6S4kHW2u5Ahi4iuTEJCAv71r3/hgw8+wMKFC/Ff//VfNdZqdTgc\nNULXhdRngftgi4+3oXvn5lj77wNY/9UvWLw2F1qNAI1GwHNjeuGmbrUHrNpqjI+34drOzbFp20EU\nn6mUZ8p2VvkndyytcKGwyH98zEYdrrumKVLaNUHXdnHo0CoqqNNBtK6+bdvy0rouRVHCH6cd+OX3\nM9V/pfjtRDlOnD6FXefsp9dp0KqpDUktbIiyGFF4qgJHT1ag6E/jpgD/2Km0Ts3QtX0TdG3fBAnx\n1lpbpZSwDidrDI761qi4kKXT+GdnNei5dhcRXb7HH38c06dPR5s2bWCxWKDRaJCamopXX30VLpcL\nbrcbBw8erLFe64XUZ4H7ULmjZyI6JUTi75/sRUmFCxOHd0OH5rXXUleNd/RMvOBzoiihyu2F0aCt\n0SJ0pjT4l9/X91jqAXRpFYUuraIAtIYkSXIwPFZsx/EiBwqLHSg8VYFDx8vk10VZDUhpE4OWcVYk\nxFe3ejWxnNcSV1x8fqumEgaVs8bg+HONlxK4FBeyHhvcBVVuL/u4ieiKjB8/HtOnT4der4fZbEZW\nVhbi4+ORmZmJUaNGQZIkTJo0CUajchajb9siEi88ej08HvGKxyNdiEYjNMgg82AQBAGxkSbERpqQ\n2r6J/LgoSigqq0SF04PmsREcfkIho7iQFWHSIYJXFhLRZUhMTER2djYAIC0tDWvXrj1vn4yMDGRk\nZDR0aUGjqZ6niC5MoxHQLCYCzbgEJIUY+9yIiIiIQoAhi4iIiCgEGLKIiIiIQoAhi4iIiCgEGLKI\niIiIQkCQpIutukREREREl4MtWUREREQhwJBFREREFAIMWUREREQhwJBFREREFAIMWUREREQhwJBF\nREREFAKNZqVlURQxd+5c7N+/HwaDAVlZWWjdunW4y6rV3XffDZvNBsC/4OxLL70U5orOysvLw+LF\ni7FmzRocOXIE06dPhyAI6NixI55//nloNOHP1efWWFBQgMcffxxt2rQBADzwwAMYNGhQ2GrzeDyY\nMWMGjh07BrfbjSeeeAIdOnRoVMexthqbN2/eqI4jAPh8PsyaNQuHDx+GVqvFSy+9BEmSGtWxDCal\nnMN4/gpejY3t/AXwHBYsQTt/SY3E559/Lk2bNk2SJEn68ccfpccffzzMFdWuqqpKGjZsWLjLqNWK\nFSukwYMHS/fdd58kSZI0YcIE6bvvvpMkSZJmz54t/etf/wpneZIknV9jdna2tGrVqjBXddb69eul\nrKwsSZIkqaSkROrXr1+jO4611djYjqMkSdK///1vafr06ZIkSdJ3330nPf74443uWAaTEs5hPH9d\nmcZ+/pIknsOCJVjnr/D/LKiWk5ODPn36AAC6d++O/Pz8MFdUu3379qGyshKPPPIIRo8ejdzc3HCX\nJEtKSsKyZcvk7YKCAlx//fUAgL59++Lbb78NV2myP9eYn5+PrVu34sEHH8SMGTNgt9vDWB1wxx13\n4KmnnpK3tVptozuOtdXY2I4jANx+++2YP38+AOD48eOIi4trdMcymJRwDuP568o09vMXwHNYsATr\n/NVoQpbdbofVapW3tVotvF5vGCuqnclkwqOPPopVq1bhhRdewLPPPtto6kxPT4dOd7YHWJIkCIIA\nALBYLKioqAhXabI/15iamoqpU6fi3XffRatWrfDGG2+EsTr/cbJarbDb7XjyySfx9NNPN7rjWFuN\nje04Buh0OkybNg3z589Henp6ozuWwaSEcxjPX1emsZ+/AJ7DgikY569GE7KsViscDoe8LYpijX+Y\nG4u2bdti6NChEAQBbdu2RXR0NIqKisJdVq3O7St2OByIjIwMYzW1GzhwILp27Srf//nnn8NcEXDi\nxAmMHj0aw4YNw5AhQxrlcfxzjY3xOAa8/PLL+PzzzzF79my4XC758cZyLINFCecwnr+Cq7H+e8dz\nWPBc6fmr0YSstLQ0fP311wCA3NxcJCcnh7mi2q1fvx4LFy4EAJw8eRJ2ux3x8fFhrqp2Xbp0wfff\nfw8A+Prrr9GzZ88wV3S+Rx99FHv27AEA7NixAykpKWGtp7i4GI888gimTJmCESNGAGh8x7G2Ghvb\ncQSATZs24X//938BAGazGYIgoGvXro3qWAaTEs5hPH8FV2P8947nsOAI1vmr0SwQHbgy58CBA5Ak\nCQsWLED79u3DXdZ53G43nnvuORw/fhyCIODZZ59FWlpauMuSFRYW4plnnkF2djYOHz6M2bNnw+Px\noF27dsjKyoJWqw13iTVqLCgowPz586HX6xEXF4f58+fX6HJpaFlZWfi///s/tGvXTn5s5syZyMrK\najTHsbYan376aSxatKjRHEcAcDqdeO6551BcXAyv14tx48ahffv2jfKfyWBQwjmM56/g1tjYzl8A\nz2HBEqzzV6MJWURERERq0mi6C4mIiIjUhCGLiIiIKAQYsoiIiIhCgCGLiIiIKAQYsoiIiIhCgCGL\niIiIKAQYsoiIiIhCgCGLiIiIKAT+P6EqpnL3RjE+AAAAAElFTkSuQmCC\n",
      "text/plain": [
       "<Figure size 720x216 with 2 Axes>"
      ]
     },
     "metadata": {},
     "output_type": "display_data"
    },
    {
     "data": {
      "image/png": "iVBORw0KGgoAAAANSUhEUgAAAlkAAADbCAYAAABeH4S9AAAABHNCSVQICAgIfAhkiAAAAAlwSFlz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\nFVkiIiIiYaAiS0RERCQM/j+S8MgQijwc7gAAAABJRU5ErkJggg==\n",
      "text/plain": [
       "<Figure size 720x216 with 2 Axes>"
      ]
     },
     "metadata": {},
     "output_type": "display_data"
    }
   ],
   "source": [
    "from sklearn.neighbors import KNeighborsRegressor\n",
    "from sklearn.model_selection  import train_test_split\n",
    "\n",
    "X_tr, X_test, y_tr, y_test = train_test_split(X, y, test_size = 0.3)\n",
    "\n",
    "knnKs = []\n",
    "knnRsqs = []\n",
    "predicted = []\n",
    "for i in range(1,30):\n",
    "    knnAge = KNeighborsRegressor(n_neighbors=i, weights='distance').fit(X_tr, y_tr)\n",
    "    knnKs.append(i)\n",
    "    knnRsqs.append(knnAge.score(X, y))\n",
    "    predicted.append(((knnAge.predict(X_test) - y_test)**2).mean())\n",
    "\n",
    "fig, axes = plt.subplots(nrows=1, ncols=2, figsize=(10, 3))\n",
    "axes[0].plot(knnKs, knnRsqs)\n",
    "axes[0].set_title('KNN\\nRsq vs K')\n",
    "axes[1].plot(knnKs, predicted)\n",
    "axes[1].set_title('KNN\\nMSE vs K')\n",
    "plt.show()"
   ]
  },
  {
   "cell_type": "markdown",
   "metadata": {
    "papermill": {
     "duration": 0.047542,
     "end_time": "2021-01-06T17:01:19.241919",
     "exception": false,
     "start_time": "2021-01-06T17:01:19.194377",
     "status": "completed"
    },
    "tags": []
   },
   "source": [
    "**Best Imputation seems to be K-Nearest Neighbors Regression for Age. Using that.**"
   ]
  },
  {
   "cell_type": "code",
   "execution_count": 24,
   "metadata": {
    "execution": {
     "iopub.execute_input": "2021-01-06T17:01:19.350352Z",
     "iopub.status.busy": "2021-01-06T17:01:19.349726Z",
     "iopub.status.idle": "2021-01-06T17:01:19.374712Z",
     "shell.execute_reply": "2021-01-06T17:01:19.374142Z"
    },
    "papermill": {
     "duration": 0.084921,
     "end_time": "2021-01-06T17:01:19.374818",
     "exception": false,
     "start_time": "2021-01-06T17:01:19.289897",
     "status": "completed"
    },
    "tags": []
   },
   "outputs": [
    {
     "data": {
      "text/html": [
       "<div>\n",
       "<style scoped>\n",
       "    .dataframe tbody tr th:only-of-type {\n",
       "        vertical-align: middle;\n",
       "    }\n",
       "\n",
       "    .dataframe tbody tr th {\n",
       "        vertical-align: top;\n",
       "    }\n",
       "\n",
       "    .dataframe thead th {\n",
       "        text-align: right;\n",
       "    }\n",
       "</style>\n",
       "<table border=\"1\" class=\"dataframe\">\n",
       "  <thead>\n",
       "    <tr style=\"text-align: right;\">\n",
       "      <th></th>\n",
       "      <th>Fare</th>\n",
       "      <th>Parch</th>\n",
       "      <th>PassengerId</th>\n",
       "      <th>Pclass</th>\n",
       "      <th>SibSp</th>\n",
       "      <th>Survived</th>\n",
       "      <th>Fare_Scaled</th>\n",
       "      <th>Embarked_C</th>\n",
       "      <th>Embarked_Q</th>\n",
       "      <th>Embarked_S</th>\n",
       "      <th>Sex_female</th>\n",
       "      <th>Sex_male</th>\n",
       "      <th>Prefix_Master</th>\n",
       "      <th>Prefix_Miss</th>\n",
       "      <th>Prefix_Mr</th>\n",
       "      <th>Prefix_Mrs</th>\n",
       "      <th>Age</th>\n",
       "    </tr>\n",
       "  </thead>\n",
       "  <tbody>\n",
       "    <tr>\n",
       "      <th>5</th>\n",
       "      <td>8.4583</td>\n",
       "      <td>0</td>\n",
       "      <td>6</td>\n",
       "      <td>3</td>\n",
       "      <td>0</td>\n",
       "      <td>0.0</td>\n",
       "      <td>0.016510</td>\n",
       "      <td>0</td>\n",
       "      <td>1</td>\n",
       "      <td>0</td>\n",
       "      <td>0</td>\n",
       "      <td>1</td>\n",
       "      <td>0</td>\n",
       "      <td>0</td>\n",
       "      <td>1</td>\n",
       "      <td>0</td>\n",
       "      <td>35.071865</td>\n",
       "    </tr>\n",
       "    <tr>\n",
       "      <th>17</th>\n",
       "      <td>13.0000</td>\n",
       "      <td>0</td>\n",
       "      <td>18</td>\n",
       "      <td>2</td>\n",
       "      <td>0</td>\n",
       "      <td>1.0</td>\n",
       "      <td>0.025374</td>\n",
       "      <td>0</td>\n",
       "      <td>0</td>\n",
       "      <td>1</td>\n",
       "      <td>0</td>\n",
       "      <td>1</td>\n",
       "      <td>0</td>\n",
       "      <td>0</td>\n",
       "      <td>1</td>\n",
       "      <td>0</td>\n",
       "      <td>30.810345</td>\n",
       "    </tr>\n",
       "    <tr>\n",
       "      <th>19</th>\n",
       "      <td>7.2250</td>\n",
       "      <td>0</td>\n",
       "      <td>20</td>\n",
       "      <td>3</td>\n",
       "      <td>0</td>\n",
       "      <td>1.0</td>\n",
       "      <td>0.014102</td>\n",
       "      <td>1</td>\n",
       "      <td>0</td>\n",
       "      <td>0</td>\n",
       "      <td>1</td>\n",
       "      <td>0</td>\n",
       "      <td>0</td>\n",
       "      <td>0</td>\n",
       "      <td>0</td>\n",
       "      <td>1</td>\n",
       "      <td>26.779463</td>\n",
       "    </tr>\n",
       "    <tr>\n",
       "      <th>26</th>\n",
       "      <td>7.2250</td>\n",
       "      <td>0</td>\n",
       "      <td>27</td>\n",
       "      <td>3</td>\n",
       "      <td>0</td>\n",
       "      <td>0.0</td>\n",
       "      <td>0.014102</td>\n",
       "      <td>1</td>\n",
       "      <td>0</td>\n",
       "      <td>0</td>\n",
       "      <td>0</td>\n",
       "      <td>1</td>\n",
       "      <td>0</td>\n",
       "      <td>0</td>\n",
       "      <td>1</td>\n",
       "      <td>0</td>\n",
       "      <td>27.950000</td>\n",
       "    </tr>\n",
       "    <tr>\n",
       "      <th>28</th>\n",
       "      <td>7.8792</td>\n",
       "      <td>0</td>\n",
       "      <td>29</td>\n",
       "      <td>3</td>\n",
       "      <td>0</td>\n",
       "      <td>1.0</td>\n",
       "      <td>0.015379</td>\n",
       "      <td>0</td>\n",
       "      <td>1</td>\n",
       "      <td>0</td>\n",
       "      <td>1</td>\n",
       "      <td>0</td>\n",
       "      <td>0</td>\n",
       "      <td>1</td>\n",
       "      <td>0</td>\n",
       "      <td>0</td>\n",
       "      <td>22.500000</td>\n",
       "    </tr>\n",
       "  </tbody>\n",
       "</table>\n",
       "</div>"
      ],
      "text/plain": [
       "       Fare  Parch  PassengerId  Pclass  SibSp  Survived  Fare_Scaled  \\\n",
       "5    8.4583      0            6       3      0       0.0     0.016510   \n",
       "17  13.0000      0           18       2      0       1.0     0.025374   \n",
       "19   7.2250      0           20       3      0       1.0     0.014102   \n",
       "26   7.2250      0           27       3      0       0.0     0.014102   \n",
       "28   7.8792      0           29       3      0       1.0     0.015379   \n",
       "\n",
       "    Embarked_C  Embarked_Q  Embarked_S  Sex_female  Sex_male  Prefix_Master  \\\n",
       "5            0           1           0           0         1              0   \n",
       "17           0           0           1           0         1              0   \n",
       "19           1           0           0           1         0              0   \n",
       "26           1           0           0           0         1              0   \n",
       "28           0           1           0           1         0              0   \n",
       "\n",
       "    Prefix_Miss  Prefix_Mr  Prefix_Mrs        Age  \n",
       "5             0          1           0  35.071865  \n",
       "17            0          1           0  30.810345  \n",
       "19            0          0           1  26.779463  \n",
       "26            0          1           0  27.950000  \n",
       "28            1          0           0  22.500000  "
      ]
     },
     "execution_count": 24,
     "metadata": {},
     "output_type": "execute_result"
    }
   ],
   "source": [
    "# Using K = 10 to estimate missing age in train Data\n",
    "fullDataWithoutAge = fullDataWithoutAge.drop(columns=['Age'])\n",
    "fullDataWithoutAge['Age'] = knnAge.predict(fullDataWithoutAge[['Pclass','Prefix_Master','Prefix_Miss','Prefix_Mr','Prefix_Mrs',\n",
    "                                                               'Embarked_C','Embarked_Q','Embarked_S','SibSp','Parch','Fare_Scaled']])\n",
    "fullDataWithoutAge.head()"
   ]
  },
  {
   "cell_type": "code",
   "execution_count": 25,
   "metadata": {
    "execution": {
     "iopub.execute_input": "2021-01-06T17:01:19.493999Z",
     "iopub.status.busy": "2021-01-06T17:01:19.493245Z",
     "iopub.status.idle": "2021-01-06T17:01:19.495890Z",
     "shell.execute_reply": "2021-01-06T17:01:19.496523Z"
    },
    "papermill": {
     "duration": 0.073304,
     "end_time": "2021-01-06T17:01:19.496653",
     "exception": false,
     "start_time": "2021-01-06T17:01:19.423349",
     "status": "completed"
    },
    "tags": []
   },
   "outputs": [
    {
     "name": "stderr",
     "output_type": "stream",
     "text": [
      "C:\\Users\\Anterpreet\\Anaconda3\\lib\\site-packages\\pandas\\core\\frame.py:6211: FutureWarning: Sorting because non-concatenation axis is not aligned. A future version\n",
      "of pandas will change to not sort by default.\n",
      "\n",
      "To accept the future behavior, pass 'sort=False'.\n",
      "\n",
      "To retain the current behavior and silence the warning, pass 'sort=True'.\n",
      "\n",
      "  sort=sort)\n"
     ]
    },
    {
     "data": {
      "text/html": [
       "<div>\n",
       "<style scoped>\n",
       "    .dataframe tbody tr th:only-of-type {\n",
       "        vertical-align: middle;\n",
       "    }\n",
       "\n",
       "    .dataframe tbody tr th {\n",
       "        vertical-align: top;\n",
       "    }\n",
       "\n",
       "    .dataframe thead th {\n",
       "        text-align: right;\n",
       "    }\n",
       "</style>\n",
       "<table border=\"1\" class=\"dataframe\">\n",
       "  <thead>\n",
       "    <tr style=\"text-align: right;\">\n",
       "      <th></th>\n",
       "      <th>Age</th>\n",
       "      <th>Embarked_C</th>\n",
       "      <th>Embarked_Q</th>\n",
       "      <th>Embarked_S</th>\n",
       "      <th>Fare</th>\n",
       "      <th>Fare_Scaled</th>\n",
       "      <th>Parch</th>\n",
       "      <th>PassengerId</th>\n",
       "      <th>Pclass</th>\n",
       "      <th>Prefix_Master</th>\n",
       "      <th>Prefix_Miss</th>\n",
       "      <th>Prefix_Mr</th>\n",
       "      <th>Prefix_Mrs</th>\n",
       "      <th>Sex_female</th>\n",
       "      <th>Sex_male</th>\n",
       "      <th>SibSp</th>\n",
       "      <th>Survived</th>\n",
       "    </tr>\n",
       "  </thead>\n",
       "  <tbody>\n",
       "    <tr>\n",
       "      <th>0</th>\n",
       "      <td>22.0</td>\n",
       "      <td>0</td>\n",
       "      <td>0</td>\n",
       "      <td>1</td>\n",
       "      <td>7.2500</td>\n",
       "      <td>0.014151</td>\n",
       "      <td>0</td>\n",
       "      <td>1</td>\n",
       "      <td>3</td>\n",
       "      <td>0</td>\n",
       "      <td>0</td>\n",
       "      <td>1</td>\n",
       "      <td>0</td>\n",
       "      <td>0</td>\n",
       "      <td>1</td>\n",
       "      <td>1</td>\n",
       "      <td>0.0</td>\n",
       "    </tr>\n",
       "    <tr>\n",
       "      <th>1</th>\n",
       "      <td>38.0</td>\n",
       "      <td>1</td>\n",
       "      <td>0</td>\n",
       "      <td>0</td>\n",
       "      <td>71.2833</td>\n",
       "      <td>0.139136</td>\n",
       "      <td>0</td>\n",
       "      <td>2</td>\n",
       "      <td>1</td>\n",
       "      <td>0</td>\n",
       "      <td>0</td>\n",
       "      <td>0</td>\n",
       "      <td>1</td>\n",
       "      <td>1</td>\n",
       "      <td>0</td>\n",
       "      <td>1</td>\n",
       "      <td>1.0</td>\n",
       "    </tr>\n",
       "    <tr>\n",
       "      <th>2</th>\n",
       "      <td>26.0</td>\n",
       "      <td>0</td>\n",
       "      <td>0</td>\n",
       "      <td>1</td>\n",
       "      <td>7.9250</td>\n",
       "      <td>0.015469</td>\n",
       "      <td>0</td>\n",
       "      <td>3</td>\n",
       "      <td>3</td>\n",
       "      <td>0</td>\n",
       "      <td>1</td>\n",
       "      <td>0</td>\n",
       "      <td>0</td>\n",
       "      <td>1</td>\n",
       "      <td>0</td>\n",
       "      <td>0</td>\n",
       "      <td>1.0</td>\n",
       "    </tr>\n",
       "    <tr>\n",
       "      <th>3</th>\n",
       "      <td>35.0</td>\n",
       "      <td>0</td>\n",
       "      <td>0</td>\n",
       "      <td>1</td>\n",
       "      <td>53.1000</td>\n",
       "      <td>0.103644</td>\n",
       "      <td>0</td>\n",
       "      <td>4</td>\n",
       "      <td>1</td>\n",
       "      <td>0</td>\n",
       "      <td>0</td>\n",
       "      <td>0</td>\n",
       "      <td>1</td>\n",
       "      <td>1</td>\n",
       "      <td>0</td>\n",
       "      <td>1</td>\n",
       "      <td>1.0</td>\n",
       "    </tr>\n",
       "    <tr>\n",
       "      <th>4</th>\n",
       "      <td>35.0</td>\n",
       "      <td>0</td>\n",
       "      <td>0</td>\n",
       "      <td>1</td>\n",
       "      <td>8.0500</td>\n",
       "      <td>0.015713</td>\n",
       "      <td>0</td>\n",
       "      <td>5</td>\n",
       "      <td>3</td>\n",
       "      <td>0</td>\n",
       "      <td>0</td>\n",
       "      <td>1</td>\n",
       "      <td>0</td>\n",
       "      <td>0</td>\n",
       "      <td>1</td>\n",
       "      <td>0</td>\n",
       "      <td>0.0</td>\n",
       "    </tr>\n",
       "  </tbody>\n",
       "</table>\n",
       "</div>"
      ],
      "text/plain": [
       "    Age  Embarked_C  Embarked_Q  Embarked_S     Fare  Fare_Scaled  Parch  \\\n",
       "0  22.0           0           0           1   7.2500     0.014151      0   \n",
       "1  38.0           1           0           0  71.2833     0.139136      0   \n",
       "2  26.0           0           0           1   7.9250     0.015469      0   \n",
       "3  35.0           0           0           1  53.1000     0.103644      0   \n",
       "4  35.0           0           0           1   8.0500     0.015713      0   \n",
       "\n",
       "   PassengerId  Pclass  Prefix_Master  Prefix_Miss  Prefix_Mr  Prefix_Mrs  \\\n",
       "0            1       3              0            0          1           0   \n",
       "1            2       1              0            0          0           1   \n",
       "2            3       3              0            1          0           0   \n",
       "3            4       1              0            0          0           1   \n",
       "4            5       3              0            0          1           0   \n",
       "\n",
       "   Sex_female  Sex_male  SibSp  Survived  \n",
       "0           0         1      1       0.0  \n",
       "1           1         0      1       1.0  \n",
       "2           1         0      0       1.0  \n",
       "3           1         0      1       1.0  \n",
       "4           0         1      0       0.0  "
      ]
     },
     "execution_count": 25,
     "metadata": {},
     "output_type": "execute_result"
    }
   ],
   "source": [
    "# Re-Creating full train and test data by appending data with imputed Age with non-missing Age data\n",
    "finalFullData = fullDataWithAge.append(fullDataWithoutAge)\n",
    "finalFullData = finalFullData.reset_index(drop=True)\n",
    "finalFullData.head()"
   ]
  },
  {
   "cell_type": "code",
   "execution_count": 26,
   "metadata": {
    "execution": {
     "iopub.execute_input": "2021-01-06T17:01:19.609538Z",
     "iopub.status.busy": "2021-01-06T17:01:19.602098Z",
     "iopub.status.idle": "2021-01-06T17:01:19.921885Z",
     "shell.execute_reply": "2021-01-06T17:01:19.921341Z"
    },
    "papermill": {
     "duration": 0.375651,
     "end_time": "2021-01-06T17:01:19.921999",
     "exception": false,
     "start_time": "2021-01-06T17:01:19.546348",
     "status": "completed"
    },
    "tags": []
   },
   "outputs": [
    {
     "data": {
      "image/png": "iVBORw0KGgoAAAANSUhEUgAAAmIAAADPCAYAAABWS73/AAAABHNCSVQICAgIfAhkiAAAAAlwSFlz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\nxERERERMokZMRERExCRqxERERERM8n8vepS/z4xOtAAAAABJRU5ErkJggg==\n",
      "text/plain": [
       "<Figure size 720x216 with 2 Axes>"
      ]
     },
     "metadata": {},
     "output_type": "display_data"
    }
   ],
   "source": [
    "# Scaling Age - Create Age_Scaled\n",
    "\n",
    "x, y = finalFullData['Age'].min(), finalFullData['Age'].max()\n",
    "finalFullData['Age_Scaled'] = (finalFullData['Age'] - x) / (y - x)\n",
    "\n",
    "fig, axes = plt.subplots(nrows=1, ncols=2, figsize=(10, 3))\n",
    "\n",
    "finalFullData['Age'].plot(ax=axes[0], kind='hist', title='Final Full Data - Age - Unscaled')\n",
    "finalFullData['Age_Scaled'].plot(ax=axes[1], kind='hist', title='Final Full Data - Age - Scaled')\n",
    "plt.show()"
   ]
  },
  {
   "cell_type": "code",
   "execution_count": 27,
   "metadata": {
    "execution": {
     "iopub.execute_input": "2021-01-06T17:01:20.032984Z",
     "iopub.status.busy": "2021-01-06T17:01:20.032252Z",
     "iopub.status.idle": "2021-01-06T17:01:20.094822Z",
     "shell.execute_reply": "2021-01-06T17:01:20.094247Z"
    },
    "papermill": {
     "duration": 0.121316,
     "end_time": "2021-01-06T17:01:20.094926",
     "exception": false,
     "start_time": "2021-01-06T17:01:19.973610",
     "status": "completed"
    },
    "tags": []
   },
   "outputs": [
    {
     "data": {
      "text/html": [
       "<div>\n",
       "<style scoped>\n",
       "    .dataframe tbody tr th:only-of-type {\n",
       "        vertical-align: middle;\n",
       "    }\n",
       "\n",
       "    .dataframe tbody tr th {\n",
       "        vertical-align: top;\n",
       "    }\n",
       "\n",
       "    .dataframe thead th {\n",
       "        text-align: right;\n",
       "    }\n",
       "</style>\n",
       "<table border=\"1\" class=\"dataframe\">\n",
       "  <thead>\n",
       "    <tr style=\"text-align: right;\">\n",
       "      <th></th>\n",
       "      <th>Age</th>\n",
       "      <th>Embarked_C</th>\n",
       "      <th>Embarked_Q</th>\n",
       "      <th>Embarked_S</th>\n",
       "      <th>Fare</th>\n",
       "      <th>Fare_Scaled</th>\n",
       "      <th>Parch</th>\n",
       "      <th>PassengerId</th>\n",
       "      <th>Pclass</th>\n",
       "      <th>Prefix_Master</th>\n",
       "      <th>Prefix_Miss</th>\n",
       "      <th>Prefix_Mr</th>\n",
       "      <th>Prefix_Mrs</th>\n",
       "      <th>Sex_female</th>\n",
       "      <th>Sex_male</th>\n",
       "      <th>SibSp</th>\n",
       "      <th>Survived</th>\n",
       "      <th>Age_Scaled</th>\n",
       "    </tr>\n",
       "  </thead>\n",
       "  <tbody>\n",
       "    <tr>\n",
       "      <th>count</th>\n",
       "      <td>1309.000000</td>\n",
       "      <td>1309.000000</td>\n",
       "      <td>1309.000000</td>\n",
       "      <td>1309.000000</td>\n",
       "      <td>1309.000000</td>\n",
       "      <td>1309.000000</td>\n",
       "      <td>1309.000000</td>\n",
       "      <td>1309.000000</td>\n",
       "      <td>1309.000000</td>\n",
       "      <td>1309.000000</td>\n",
       "      <td>1309.000000</td>\n",
       "      <td>1309.000000</td>\n",
       "      <td>1309.000000</td>\n",
       "      <td>1309.000000</td>\n",
       "      <td>1309.000000</td>\n",
       "      <td>1309.000000</td>\n",
       "      <td>891.000000</td>\n",
       "      <td>1309.000000</td>\n",
       "    </tr>\n",
       "    <tr>\n",
       "      <th>mean</th>\n",
       "      <td>29.936540</td>\n",
       "      <td>0.206264</td>\n",
       "      <td>0.093965</td>\n",
       "      <td>0.699771</td>\n",
       "      <td>33.295479</td>\n",
       "      <td>0.064988</td>\n",
       "      <td>0.385027</td>\n",
       "      <td>655.000000</td>\n",
       "      <td>2.294882</td>\n",
       "      <td>0.046600</td>\n",
       "      <td>0.201681</td>\n",
       "      <td>0.597403</td>\n",
       "      <td>0.154316</td>\n",
       "      <td>0.355997</td>\n",
       "      <td>0.644003</td>\n",
       "      <td>0.498854</td>\n",
       "      <td>0.383838</td>\n",
       "      <td>0.372874</td>\n",
       "    </tr>\n",
       "    <tr>\n",
       "      <th>std</th>\n",
       "      <td>13.724002</td>\n",
       "      <td>0.404777</td>\n",
       "      <td>0.291891</td>\n",
       "      <td>0.458533</td>\n",
       "      <td>51.738879</td>\n",
       "      <td>0.100988</td>\n",
       "      <td>0.865560</td>\n",
       "      <td>378.020061</td>\n",
       "      <td>0.837836</td>\n",
       "      <td>0.210862</td>\n",
       "      <td>0.401408</td>\n",
       "      <td>0.490608</td>\n",
       "      <td>0.361390</td>\n",
       "      <td>0.478997</td>\n",
       "      <td>0.478997</td>\n",
       "      <td>1.041658</td>\n",
       "      <td>0.486592</td>\n",
       "      <td>0.171915</td>\n",
       "    </tr>\n",
       "    <tr>\n",
       "      <th>min</th>\n",
       "      <td>0.170000</td>\n",
       "      <td>0.000000</td>\n",
       "      <td>0.000000</td>\n",
       "      <td>0.000000</td>\n",
       "      <td>0.000000</td>\n",
       "      <td>0.000000</td>\n",
       "      <td>0.000000</td>\n",
       "      <td>1.000000</td>\n",
       "      <td>1.000000</td>\n",
       "      <td>0.000000</td>\n",
       "      <td>0.000000</td>\n",
       "      <td>0.000000</td>\n",
       "      <td>0.000000</td>\n",
       "      <td>0.000000</td>\n",
       "      <td>0.000000</td>\n",
       "      <td>0.000000</td>\n",
       "      <td>0.000000</td>\n",
       "      <td>0.000000</td>\n",
       "    </tr>\n",
       "    <tr>\n",
       "      <th>25%</th>\n",
       "      <td>22.000000</td>\n",
       "      <td>0.000000</td>\n",
       "      <td>0.000000</td>\n",
       "      <td>0.000000</td>\n",
       "      <td>7.895800</td>\n",
       "      <td>0.015412</td>\n",
       "      <td>0.000000</td>\n",
       "      <td>328.000000</td>\n",
       "      <td>2.000000</td>\n",
       "      <td>0.000000</td>\n",
       "      <td>0.000000</td>\n",
       "      <td>0.000000</td>\n",
       "      <td>0.000000</td>\n",
       "      <td>0.000000</td>\n",
       "      <td>0.000000</td>\n",
       "      <td>0.000000</td>\n",
       "      <td>0.000000</td>\n",
       "      <td>0.273456</td>\n",
       "    </tr>\n",
       "    <tr>\n",
       "      <th>50%</th>\n",
       "      <td>28.326369</td>\n",
       "      <td>0.000000</td>\n",
       "      <td>0.000000</td>\n",
       "      <td>1.000000</td>\n",
       "      <td>14.454200</td>\n",
       "      <td>0.028213</td>\n",
       "      <td>0.000000</td>\n",
       "      <td>655.000000</td>\n",
       "      <td>3.000000</td>\n",
       "      <td>0.000000</td>\n",
       "      <td>0.000000</td>\n",
       "      <td>1.000000</td>\n",
       "      <td>0.000000</td>\n",
       "      <td>0.000000</td>\n",
       "      <td>1.000000</td>\n",
       "      <td>0.000000</td>\n",
       "      <td>0.000000</td>\n",
       "      <td>0.352704</td>\n",
       "    </tr>\n",
       "    <tr>\n",
       "      <th>75%</th>\n",
       "      <td>38.000000</td>\n",
       "      <td>0.000000</td>\n",
       "      <td>0.000000</td>\n",
       "      <td>1.000000</td>\n",
       "      <td>31.275000</td>\n",
       "      <td>0.061045</td>\n",
       "      <td>0.000000</td>\n",
       "      <td>982.000000</td>\n",
       "      <td>3.000000</td>\n",
       "      <td>0.000000</td>\n",
       "      <td>0.000000</td>\n",
       "      <td>1.000000</td>\n",
       "      <td>0.000000</td>\n",
       "      <td>1.000000</td>\n",
       "      <td>1.000000</td>\n",
       "      <td>1.000000</td>\n",
       "      <td>1.000000</td>\n",
       "      <td>0.473882</td>\n",
       "    </tr>\n",
       "    <tr>\n",
       "      <th>max</th>\n",
       "      <td>80.000000</td>\n",
       "      <td>1.000000</td>\n",
       "      <td>1.000000</td>\n",
       "      <td>1.000000</td>\n",
       "      <td>512.329200</td>\n",
       "      <td>1.000000</td>\n",
       "      <td>9.000000</td>\n",
       "      <td>1309.000000</td>\n",
       "      <td>3.000000</td>\n",
       "      <td>1.000000</td>\n",
       "      <td>1.000000</td>\n",
       "      <td>1.000000</td>\n",
       "      <td>1.000000</td>\n",
       "      <td>1.000000</td>\n",
       "      <td>1.000000</td>\n",
       "      <td>8.000000</td>\n",
       "      <td>1.000000</td>\n",
       "      <td>1.000000</td>\n",
       "    </tr>\n",
       "  </tbody>\n",
       "</table>\n",
       "</div>"
      ],
      "text/plain": [
       "               Age   Embarked_C   Embarked_Q   Embarked_S         Fare  \\\n",
       "count  1309.000000  1309.000000  1309.000000  1309.000000  1309.000000   \n",
       "mean     29.936540     0.206264     0.093965     0.699771    33.295479   \n",
       "std      13.724002     0.404777     0.291891     0.458533    51.738879   \n",
       "min       0.170000     0.000000     0.000000     0.000000     0.000000   \n",
       "25%      22.000000     0.000000     0.000000     0.000000     7.895800   \n",
       "50%      28.326369     0.000000     0.000000     1.000000    14.454200   \n",
       "75%      38.000000     0.000000     0.000000     1.000000    31.275000   \n",
       "max      80.000000     1.000000     1.000000     1.000000   512.329200   \n",
       "\n",
       "       Fare_Scaled        Parch  PassengerId       Pclass  Prefix_Master  \\\n",
       "count  1309.000000  1309.000000  1309.000000  1309.000000    1309.000000   \n",
       "mean      0.064988     0.385027   655.000000     2.294882       0.046600   \n",
       "std       0.100988     0.865560   378.020061     0.837836       0.210862   \n",
       "min       0.000000     0.000000     1.000000     1.000000       0.000000   \n",
       "25%       0.015412     0.000000   328.000000     2.000000       0.000000   \n",
       "50%       0.028213     0.000000   655.000000     3.000000       0.000000   \n",
       "75%       0.061045     0.000000   982.000000     3.000000       0.000000   \n",
       "max       1.000000     9.000000  1309.000000     3.000000       1.000000   \n",
       "\n",
       "       Prefix_Miss    Prefix_Mr   Prefix_Mrs   Sex_female     Sex_male  \\\n",
       "count  1309.000000  1309.000000  1309.000000  1309.000000  1309.000000   \n",
       "mean      0.201681     0.597403     0.154316     0.355997     0.644003   \n",
       "std       0.401408     0.490608     0.361390     0.478997     0.478997   \n",
       "min       0.000000     0.000000     0.000000     0.000000     0.000000   \n",
       "25%       0.000000     0.000000     0.000000     0.000000     0.000000   \n",
       "50%       0.000000     1.000000     0.000000     0.000000     1.000000   \n",
       "75%       0.000000     1.000000     0.000000     1.000000     1.000000   \n",
       "max       1.000000     1.000000     1.000000     1.000000     1.000000   \n",
       "\n",
       "             SibSp    Survived   Age_Scaled  \n",
       "count  1309.000000  891.000000  1309.000000  \n",
       "mean      0.498854    0.383838     0.372874  \n",
       "std       1.041658    0.486592     0.171915  \n",
       "min       0.000000    0.000000     0.000000  \n",
       "25%       0.000000    0.000000     0.273456  \n",
       "50%       0.000000    0.000000     0.352704  \n",
       "75%       1.000000    1.000000     0.473882  \n",
       "max       8.000000    1.000000     1.000000  "
      ]
     },
     "execution_count": 27,
     "metadata": {},
     "output_type": "execute_result"
    }
   ],
   "source": [
    "finalFullData.describe()"
   ]
  },
  {
   "cell_type": "markdown",
   "metadata": {
    "papermill": {
     "duration": 0.051122,
     "end_time": "2021-01-06T17:01:20.197706",
     "exception": false,
     "start_time": "2021-01-06T17:01:20.146584",
     "status": "completed"
    },
    "tags": []
   },
   "source": [
    "**Final Dataset only has Survived field missing, which is from the test dataset.**"
   ]
  },
  {
   "cell_type": "code",
   "execution_count": 28,
   "metadata": {
    "execution": {
     "iopub.execute_input": "2021-01-06T17:01:20.309210Z",
     "iopub.status.busy": "2021-01-06T17:01:20.307592Z",
     "iopub.status.idle": "2021-01-06T17:01:20.315402Z",
     "shell.execute_reply": "2021-01-06T17:01:20.314817Z"
    },
    "papermill": {
     "duration": 0.066145,
     "end_time": "2021-01-06T17:01:20.315510",
     "exception": false,
     "start_time": "2021-01-06T17:01:20.249365",
     "status": "completed"
    },
    "tags": []
   },
   "outputs": [
    {
     "name": "stdout",
     "output_type": "stream",
     "text": [
      "Final Full Data:\n",
      " Age                0\n",
      "Embarked_C         0\n",
      "Embarked_Q         0\n",
      "Embarked_S         0\n",
      "Fare               0\n",
      "Fare_Scaled        0\n",
      "Parch              0\n",
      "PassengerId        0\n",
      "Pclass             0\n",
      "Prefix_Master      0\n",
      "Prefix_Miss        0\n",
      "Prefix_Mr          0\n",
      "Prefix_Mrs         0\n",
      "Sex_female         0\n",
      "Sex_male           0\n",
      "SibSp              0\n",
      "Survived         418\n",
      "Age_Scaled         0\n",
      "dtype: int64\n",
      "--------------------\n"
     ]
    }
   ],
   "source": [
    "# checking all the fields that have nan values\n",
    "print('Final Full Data:\\n',finalFullData.isnull().sum())\n",
    "print('-'*20)"
   ]
  },
  {
   "cell_type": "markdown",
   "metadata": {
    "papermill": {
     "duration": 0.052068,
     "end_time": "2021-01-06T17:01:20.419842",
     "exception": false,
     "start_time": "2021-01-06T17:01:20.367774",
     "status": "completed"
    },
    "tags": []
   },
   "source": [
    "___"
   ]
  },
  {
   "cell_type": "markdown",
   "metadata": {
    "papermill": {
     "duration": 0.051573,
     "end_time": "2021-01-06T17:01:20.523273",
     "exception": false,
     "start_time": "2021-01-06T17:01:20.471700",
     "status": "completed"
    },
    "tags": []
   },
   "source": [
    "-------------\n",
    "# Scoping a few Models for predicting passenger survival"
   ]
  },
  {
   "cell_type": "code",
   "execution_count": 29,
   "metadata": {
    "collapsed": true,
    "execution": {
     "iopub.execute_input": "2021-01-06T17:01:20.638425Z",
     "iopub.status.busy": "2021-01-06T17:01:20.635014Z",
     "iopub.status.idle": "2021-01-06T17:01:20.642559Z",
     "shell.execute_reply": "2021-01-06T17:01:20.641927Z"
    },
    "papermill": {
     "duration": 0.067389,
     "end_time": "2021-01-06T17:01:20.642659",
     "exception": false,
     "start_time": "2021-01-06T17:01:20.575270",
     "status": "completed"
    },
    "tags": []
   },
   "outputs": [],
   "source": [
    "from sklearn import metrics\n",
    "\n",
    "# creating subsets of original imported data for appending them after imputing Age\n",
    "finalTrainData = finalFullData[finalFullData['Survived'].notna()]\n",
    "finalTestData = finalFullData[finalFullData['Survived'].isna()]\n",
    "\n",
    "\n",
    "X_tr, X_test, y_tr, y_test = train_test_split(finalTrainData[finalTrainData.columns.difference(['Age','Fare','Survived','PassengerId',\n",
    "                                                                                                'Sex_female','Sex_male',])].values,\n",
    "                                              finalTrainData['Survived'].values, \n",
    "                                              test_size = 0.3)\n",
    "\n",
    "inputVars = finalTrainData[finalTrainData.columns.difference(['Age','Fare','Survived','PassengerId','Sex_female','Sex_male',])].columns.tolist()"
   ]
  },
  {
   "cell_type": "markdown",
   "metadata": {
    "papermill": {
     "duration": 0.051977,
     "end_time": "2021-01-06T17:01:20.859914",
     "exception": false,
     "start_time": "2021-01-06T17:01:20.807937",
     "status": "completed"
    },
    "tags": []
   },
   "source": [
    "-----------------\n",
    "**Logistic Model**"
   ]
  },
  {
   "cell_type": "code",
   "execution_count": 31,
   "metadata": {
    "execution": {
     "iopub.execute_input": "2021-01-06T17:01:20.967742Z",
     "iopub.status.busy": "2021-01-06T17:01:20.967090Z",
     "iopub.status.idle": "2021-01-06T17:01:21.192163Z",
     "shell.execute_reply": "2021-01-06T17:01:21.191273Z"
    },
    "papermill": {
     "duration": 0.280053,
     "end_time": "2021-01-06T17:01:21.192283",
     "exception": false,
     "start_time": "2021-01-06T17:01:20.912230",
     "status": "completed"
    },
    "tags": []
   },
   "outputs": [
    {
     "name": "stdout",
     "output_type": "stream",
     "text": [
      "Logistic Model performance score on the training set is 0.8218298555377207\n",
      "Logistic Model performance score on the test set is 0.8544776119402985\n",
      "\n",
      "Confusion Matrix: \n",
      " [[152  12]\n",
      " [ 27  77]]\n",
      "\n",
      "Logistic Regression Classification Report\n",
      "              precision    recall  f1-score   support\n",
      "\n",
      "        0.0       0.85      0.93      0.89       164\n",
      "        1.0       0.87      0.74      0.80       104\n",
      "\n",
      "avg / total       0.86      0.85      0.85       268\n",
      "\n",
      "\n",
      "Accuracy: 0.85447761194\n",
      "Precision: 0.865168539326\n",
      "Recall: 0.740384615385\n",
      "\n",
      "Logistic Model Parameters:\n",
      "Intercept:\t 2.00232933992 \n",
      "Coefficients:\n",
      "\n",
      "\t Age_Scaled : -0.68350\n",
      "\t Embarked_C : 0.94359\n",
      "\t Embarked_Q : 0.68319\n",
      "\t Embarked_S : 0.37555\n",
      "\t Fare_Scaled : 0.90554\n",
      "\t Parch : -0.26745\n",
      "\t Pclass : -0.91790\n",
      "\t Prefix_Master : 1.39490\n",
      "\t Prefix_Miss : 0.89702\n",
      "\t Prefix_Mr : -1.73385\n",
      "\t Prefix_Mrs : 1.44426\n",
      "\t SibSp : -0.39534\n",
      "\n",
      "Logistic Model Predictions:\n",
      " [ 0.  0.  1.  1.  0.  1.  0.  0.  0.  0.  0.  0.  0.  0.  0.  1.  0.  0.\n",
      "  0.  0.  0.  0.  1.  0.  0.  0.  1.  1.  0.  0.  0.  0.  0.  0.  0.  1.\n",
      "  1.  1.  1.  0.  0.  0.  0.  0.  0.  0.  0.  0.  0.  1.  0.  0.  0.  0.\n",
      "  0.  0.  0.  1.  0.  1.  1.  1.  1.  0.  1.  1.  1.  0.  0.  0.  0.  0.\n",
      "  0.  1.  0.  1.  0.  1.  0.  1.  0.  0.  0.  0.  0.  1.  0.  1.  0.  0.\n",
      "  0.  1.  0.  1.  0.  1.  1.  0.  0.  1.  0.  0.  0.  1.  1.  0.  0.  0.\n",
      "  1.  0.  0.  1.  1.  1.  1.  1.  0.  1.  0.  0.  0.  0.  0.  0.  0.  0.\n",
      "  0.  0.  0.  0.  0.  0.  0.  0.  1.  1.  0.  1.  1.  0.  0.  0.  0.  1.\n",
      "  0.  0.  1.  1.  1.  0.  0.  0.  0.  1.  0.  1.  1.  0.  0.  0.  1.  1.\n",
      "  0.  0.  0.  0.  0.  1.  0.  1.  1.  0.  0.  1.  0.  0.  0.  0.  0.  1.\n",
      "  1.  0.  1.  0.  0.  0.  0.  1.  1.  0.  0.  0.  0.  0.  0.  1.  0.  0.\n",
      "  1.  0.  1.  0.  0.  0.  1.  1.  0.  0.  0.  0.  1.  0.  0.  1.  0.  0.\n",
      "  1.  0.  0.  0.  0.  0.  0.  0.  0.  0.  0.  1.  0.  1.  1.  0.  0.  1.\n",
      "  1.  0.  1.  0.  1.  1.  0.  1.  0.  1.  0.  0.  0.  1.  0.  1.  1.  1.\n",
      "  0.  1.  0.  0.  0.  0.  0.  0.  1.  0.  0.  1.  0.  1.  1.  0.]\n"
     ]
    },
    {
     "data": {
      "image/png": "iVBORw0KGgoAAAANSUhEUgAAAeEAAAFJCAYAAACsBZWNAAAABHNCSVQICAgIfAhkiAAAAAlwSFlz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\nTkSuQmCC\n",
      "text/plain": [
       "<Figure size 576x396 with 1 Axes>"
      ]
     },
     "metadata": {},
     "output_type": "display_data"
    }
   ],
   "source": [
    "# Logistic Model\n",
    "from sklearn.linear_model import LogisticRegression\n",
    "\n",
    "logMdl = LogisticRegression(max_iter=1000, random_state=0).fit(X_tr, y_tr)\n",
    "\n",
    "print('Logistic Model performance score on the training set is {}'.format(logMdl.score(X_tr, y_tr)))\n",
    "print('Logistic Model performance score on the test set is {}'.format(logMdl.score(X_test, y_test)))\n",
    "\n",
    "logCM = metrics.confusion_matrix(y_test, logMdl.predict(X_test))\n",
    "print('\\nConfusion Matrix: \\n',logCM)\n",
    "\n",
    "print('\\nLogistic Regression Classification Report\\n',classification_report(y_test, logMdl.predict(X_test)))\n",
    "\n",
    "print(\"\\nAccuracy:\",metrics.accuracy_score(y_test, logMdl.predict(X_test)))\n",
    "print(\"Precision:\",metrics.precision_score(y_test, logMdl.predict(X_test)))\n",
    "print(\"Recall:\",metrics.recall_score(y_test, logMdl.predict(X_test)))\n",
    "\n",
    "print('\\nLogistic Model Parameters:\\nIntercept:\\t',logMdl.intercept_[0],'\\nCoefficients:\\n')\n",
    "\n",
    "for i in range(len(inputVars)):\n",
    "    print('\\t',inputVars[i],': {:.5f}'.format(logMdl.coef_[0][i]))\n",
    "\n",
    "print('\\nLogistic Model Predictions:\\n',logMdl.predict(X_test))\n",
    "\n",
    "# ROC Curve for Logistic Regression\n",
    "y_pred_proba = logMdl.predict_proba(X_test)[::,1]\n",
    "fpr, tpr, _ = metrics.roc_curve(y_test,  y_pred_proba)\n",
    "auc = metrics.roc_auc_score(y_test, y_pred_proba)\n",
    "plt.plot(fpr,tpr,label=\"AUC=\"+str(auc))\n",
    "plt.legend(loc=4)\n",
    "plt.show()"
   ]
  },
  {
   "cell_type": "markdown",
   "metadata": {
    "papermill": {
     "duration": 0.053079,
     "end_time": "2021-01-06T17:01:21.298634",
     "exception": false,
     "start_time": "2021-01-06T17:01:21.245555",
     "status": "completed"
    },
    "tags": []
   },
   "source": [
    "----------------------\n",
    "**SVM**"
   ]
  },
  {
   "cell_type": "code",
   "execution_count": 32,
   "metadata": {
    "execution": {
     "iopub.execute_input": "2021-01-06T17:01:21.423611Z",
     "iopub.status.busy": "2021-01-06T17:01:21.416137Z",
     "iopub.status.idle": "2021-01-06T17:01:21.499241Z",
     "shell.execute_reply": "2021-01-06T17:01:21.498424Z"
    },
    "papermill": {
     "duration": 0.145915,
     "end_time": "2021-01-06T17:01:21.499402",
     "exception": false,
     "start_time": "2021-01-06T17:01:21.353487",
     "status": "completed"
    },
    "tags": []
   },
   "outputs": [
    {
     "name": "stdout",
     "output_type": "stream",
     "text": [
      "Support Vector Machine Model performance score on the training set is 0.8202247191011236\n",
      "Support Vector Machine Model performance score on the test set is 0.8619402985074627\n",
      "\n",
      "Confusion Matrix: \n",
      " [[152  12]\n",
      " [ 25  79]]\n",
      "\n",
      "SVM Classification Report\n",
      "              precision    recall  f1-score   support\n",
      "\n",
      "        0.0       0.86      0.93      0.89       164\n",
      "        1.0       0.87      0.76      0.81       104\n",
      "\n",
      "avg / total       0.86      0.86      0.86       268\n",
      "\n",
      "\n",
      "Accuracy: 0.861940298507\n",
      "Precision: 0.868131868132\n",
      "Recall: 0.759615384615\n",
      "\n",
      "SVM Parameters:\n",
      "Coefficients:\n",
      "\n",
      "\t Age_Scaled : -0.50804\n",
      "\t Embarked_C : 0.09821\n",
      "\t Embarked_Q : -0.02646\n",
      "\t Embarked_S : -0.07175\n",
      "\t Fare_Scaled : 1.71883\n",
      "\t Parch : -0.27076\n",
      "\t Pclass : -0.17024\n",
      "\t Prefix_Master : 0.69250\n",
      "\t Prefix_Miss : 0.34333\n",
      "\t Prefix_Mr : -1.77328\n",
      "\t Prefix_Mrs : 0.73745\n",
      "\t SibSp : -0.40802\n",
      "\n",
      "SVM Predictions:\n",
      " [ 0.  0.  1.  1.  0.  1.  0.  0.  1.  0.  0.  0.  0.  0.  0.  1.  0.  0.\n",
      "  0.  0.  0.  0.  1.  0.  0.  0.  1.  1.  0.  0.  0.  0.  0.  0.  0.  1.\n",
      "  1.  1.  1.  0.  0.  0.  0.  0.  0.  0.  0.  0.  0.  1.  0.  0.  0.  0.\n",
      "  0.  0.  0.  1.  0.  1.  1.  1.  1.  0.  1.  1.  1.  0.  0.  0.  0.  0.\n",
      "  0.  1.  0.  1.  0.  1.  0.  1.  0.  0.  0.  0.  0.  1.  0.  1.  0.  0.\n",
      "  0.  0.  0.  1.  0.  1.  1.  0.  0.  1.  0.  0.  0.  1.  1.  0.  0.  0.\n",
      "  1.  0.  0.  1.  1.  0.  1.  1.  0.  1.  0.  0.  0.  0.  0.  0.  0.  0.\n",
      "  0.  0.  0.  0.  0.  0.  0.  0.  1.  1.  0.  1.  1.  0.  0.  0.  0.  1.\n",
      "  0.  0.  1.  1.  1.  0.  0.  0.  0.  1.  0.  1.  1.  0.  0.  0.  1.  1.\n",
      "  0.  0.  0.  0.  0.  1.  0.  1.  1.  0.  0.  1.  0.  0.  1.  0.  0.  1.\n",
      "  1.  0.  1.  0.  0.  0.  0.  1.  1.  0.  0.  0.  0.  0.  0.  1.  0.  0.\n",
      "  1.  0.  1.  0.  0.  0.  1.  1.  0.  0.  0.  0.  1.  0.  0.  1.  1.  0.\n",
      "  1.  1.  0.  0.  0.  0.  0.  0.  0.  0.  0.  1.  0.  1.  1.  0.  0.  1.\n",
      "  1.  0.  1.  0.  1.  1.  0.  1.  0.  1.  0.  0.  0.  1.  0.  1.  1.  1.\n",
      "  0.  1.  0.  0.  0.  0.  0.  0.  1.  0.  0.  1.  0.  1.  1.  0.]\n"
     ]
    }
   ],
   "source": [
    "# Support Vector Machines\n",
    "from sklearn import svm\n",
    "svmMdl = svm.SVC(kernel='linear').fit(X_tr, y_tr)\n",
    "\n",
    "print('Support Vector Machine Model performance score on the training set is {}'.format(svmMdl.score(X_tr, y_tr)))\n",
    "print('Support Vector Machine Model performance score on the test set is {}'.format(svmMdl.score(X_test, y_test)))\n",
    "svmCM = metrics.confusion_matrix(y_test, svmMdl.predict(X_test))\n",
    "print('\\nConfusion Matrix: \\n',svmCM)\n",
    "\n",
    "print('\\nSVM Classification Report\\n',classification_report(y_test, svmMdl.predict(X_test)))\n",
    "\n",
    "print(\"\\nAccuracy:\",metrics.accuracy_score(y_test, svmMdl.predict(X_test)))\n",
    "print(\"Precision:\",metrics.precision_score(y_test, svmMdl.predict(X_test)))\n",
    "print(\"Recall:\",metrics.recall_score(y_test, svmMdl.predict(X_test)))\n",
    "\n",
    "print('\\nSVM Parameters:\\nCoefficients:\\n')\n",
    "for i in range(len(inputVars)):\n",
    "    print('\\t',inputVars[i],': {:.5f}'.format(svmMdl.coef_[0][i]))\n",
    "\n",
    "print('\\nSVM Predictions:\\n',svmMdl.predict(X_test))"
   ]
  },
  {
   "cell_type": "markdown",
   "metadata": {
    "papermill": {
     "duration": 0.078886,
     "end_time": "2021-01-06T17:01:21.656821",
     "exception": false,
     "start_time": "2021-01-06T17:01:21.577935",
     "status": "completed"
    },
    "tags": []
   },
   "source": [
    "-------\n",
    "**Random Forest**"
   ]
  },
  {
   "cell_type": "code",
   "execution_count": 33,
   "metadata": {
    "execution": {
     "iopub.execute_input": "2021-01-06T17:01:21.831603Z",
     "iopub.status.busy": "2021-01-06T17:01:21.830455Z",
     "iopub.status.idle": "2021-01-06T17:01:22.195698Z",
     "shell.execute_reply": "2021-01-06T17:01:22.194762Z"
    },
    "papermill": {
     "duration": 0.456938,
     "end_time": "2021-01-06T17:01:22.195832",
     "exception": false,
     "start_time": "2021-01-06T17:01:21.738894",
     "status": "completed"
    },
    "tags": []
   },
   "outputs": [
    {
     "name": "stdout",
     "output_type": "stream",
     "text": [
      "Random Forest Classifier Model performance score on the training set is 0.9839486356340289\n",
      "Random Forest Classifier Model performance score on the test set is 0.8097014925373134\n",
      "\n",
      "Confusion Matrix: \n",
      " [[137  27]\n",
      " [ 24  80]]\n",
      "\n",
      "Random Forest Classification Report\n",
      "              precision    recall  f1-score   support\n",
      "\n",
      "        0.0       0.85      0.84      0.84       164\n",
      "        1.0       0.75      0.77      0.76       104\n",
      "\n",
      "avg / total       0.81      0.81      0.81       268\n",
      "\n",
      "\n",
      "Accuracy: 0.809701492537\n",
      "Precision: 0.747663551402\n",
      "Recall: 0.769230769231\n",
      "\n",
      "Random Forest Classification Predictions:\n",
      " [ 0.  0.  1.  1.  0.  1.  1.  0.  0.  0.  1.  0.  0.  0.  0.  1.  0.  0.\n",
      "  1.  0.  0.  0.  1.  0.  0.  0.  1.  1.  0.  0.  0.  1.  0.  0.  0.  1.\n",
      "  1.  0.  0.  0.  0.  0.  0.  0.  0.  0.  0.  0.  1.  1.  0.  1.  0.  0.\n",
      "  1.  1.  0.  0.  0.  1.  1.  1.  1.  0.  0.  1.  1.  0.  0.  0.  1.  0.\n",
      "  0.  1.  0.  1.  0.  1.  0.  1.  0.  0.  0.  0.  0.  1.  1.  1.  0.  0.\n",
      "  0.  0.  1.  1.  0.  1.  1.  0.  0.  1.  0.  0.  0.  1.  1.  1.  0.  0.\n",
      "  1.  0.  1.  0.  1.  0.  1.  1.  1.  1.  0.  0.  0.  0.  0.  0.  0.  1.\n",
      "  0.  0.  0.  0.  1.  1.  0.  0.  1.  1.  0.  1.  1.  0.  0.  0.  0.  1.\n",
      "  0.  0.  0.  1.  1.  0.  0.  1.  0.  1.  0.  1.  0.  0.  0.  0.  1.  1.\n",
      "  1.  0.  1.  0.  0.  1.  0.  1.  1.  0.  0.  1.  0.  0.  1.  0.  0.  0.\n",
      "  1.  0.  1.  0.  0.  0.  1.  1.  1.  0.  1.  0.  0.  1.  1.  1.  0.  0.\n",
      "  1.  0.  0.  0.  0.  0.  1.  1.  0.  0.  1.  0.  1.  0.  0.  1.  0.  0.\n",
      "  1.  0.  1.  0.  0.  0.  0.  1.  0.  0.  0.  1.  0.  1.  1.  0.  0.  1.\n",
      "  1.  0.  1.  0.  1.  1.  0.  1.  0.  1.  1.  0.  0.  1.  0.  1.  1.  0.\n",
      "  0.  1.  0.  0.  1.  1.  0.  0.  0.  0.  0.  1.  0.  1.  1.  0.]\n"
     ]
    }
   ],
   "source": [
    "from sklearn.ensemble import RandomForestClassifier\n",
    "\n",
    "# svmMdl = svm.SVC(kernel='linear').fit(X_tr, y_tr)\n",
    "\n",
    "rfor = RandomForestClassifier(n_estimators=100).fit(X_tr, y_tr)\n",
    "\n",
    "print('Random Forest Classifier Model performance score on the training set is {}'.format(rfor.score(X_tr, y_tr)))\n",
    "print('Random Forest Classifier Model performance score on the test set is {}'.format(rfor.score(X_test, y_test)))\n",
    "\n",
    "rforCM = metrics.confusion_matrix(y_test, rfor.predict(X_test))\n",
    "print('\\nConfusion Matrix: \\n',rforCM)\n",
    "\n",
    "print('\\nRandom Forest Classification Report\\n',classification_report(y_test, rfor.predict(X_test)))\n",
    "\n",
    "print(\"\\nAccuracy:\",metrics.accuracy_score(y_test, rfor.predict(X_test)))\n",
    "print(\"Precision:\",metrics.precision_score(y_test, rfor.predict(X_test)))\n",
    "print(\"Recall:\",metrics.recall_score(y_test, rfor.predict(X_test)))\n",
    "\n",
    "print('\\nRandom Forest Classification Predictions:\\n',rfor.predict(X_test))"
   ]
  },
  {
   "cell_type": "markdown",
   "metadata": {
    "papermill": {
     "duration": 0.080771,
     "end_time": "2021-01-06T17:01:22.356725",
     "exception": false,
     "start_time": "2021-01-06T17:01:22.275954",
     "status": "completed"
    },
    "tags": []
   },
   "source": [
    "-------------------\n",
    "# Predictions using Logistic Regression"
   ]
  },
  {
   "cell_type": "code",
   "execution_count": 53,
   "metadata": {
    "execution": {
     "iopub.execute_input": "2021-01-06T17:01:22.528135Z",
     "iopub.status.busy": "2021-01-06T17:01:22.527043Z",
     "iopub.status.idle": "2021-01-06T17:01:22.812013Z",
     "shell.execute_reply": "2021-01-06T17:01:22.811257Z"
    },
    "papermill": {
     "duration": 0.375872,
     "end_time": "2021-01-06T17:01:22.812160",
     "exception": false,
     "start_time": "2021-01-06T17:01:22.436288",
     "status": "completed"
    },
    "tags": []
   },
   "outputs": [
    {
     "name": "stdout",
     "output_type": "stream",
     "text": [
      "Prediction file \"final_predictions0.csv\" written to \"predictions folder\" in root directory\n"
     ]
    }
   ],
   "source": [
    "finalTestData = finalTestData.drop(columns=['Survived'])\n",
    "\n",
    "finalTestData['Survived'] = logMdl.predict(finalTestData[inputVars].values).astype(int)\n",
    "\n",
    "final = finalTestData[['PassengerId','Survived']].reset_index(drop=True)\n",
    "\n",
    "i = 0\n",
    "while os.path.exists(\"./predictions/final_predictions%s.csv\" % i):\n",
    "    i += 1\n",
    "\n",
    "final.to_csv('./predictions/final_predictions%s.csv' %i,index=False)\n",
    "\n",
    "print('Prediction file \"{}\" written to \"predictions folder\" in root directory'.\\\n",
    "      format('final_predictions%s.csv' %i))"
   ]
  },
  {
   "cell_type": "markdown",
   "metadata": {
    "papermill": {
     "duration": 0.079496,
     "end_time": "2021-01-06T17:01:22.972339",
     "exception": false,
     "start_time": "2021-01-06T17:01:22.892843",
     "status": "completed"
    },
    "tags": []
   },
   "source": [
    "---"
   ]
  },
  {
   "cell_type": "markdown",
   "metadata": {},
   "source": [
    "---"
   ]
  }
 ],
 "metadata": {
  "anaconda-cloud": {},
  "kernelspec": {
   "display_name": "Python [conda env:Anaconda3]",
   "language": "python",
   "name": "conda-env-Anaconda3-py"
  },
  "language_info": {
   "codemirror_mode": {
    "name": "ipython",
    "version": 3
   },
   "file_extension": ".py",
   "mimetype": "text/x-python",
   "name": "python",
   "nbconvert_exporter": "python",
   "pygments_lexer": "ipython3",
   "version": "3.5.6"
  },
  "papermill": {
   "duration": 18.503541,
   "end_time": "2021-01-06T17:01:23.323290",
   "environment_variables": {},
   "exception": null,
   "input_path": "__notebook__.ipynb",
   "output_path": "__notebook__.ipynb",
   "parameters": {},
   "start_time": "2021-01-06T17:01:04.819749",
   "version": "2.1.0"
  }
 },
 "nbformat": 4,
 "nbformat_minor": 4
}
